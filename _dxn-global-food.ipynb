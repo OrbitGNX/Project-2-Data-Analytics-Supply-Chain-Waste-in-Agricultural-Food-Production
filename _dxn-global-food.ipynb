{
 "cells": [
  {
   "cell_type": "code",
   "execution_count": 2,
   "metadata": {},
   "outputs": [],
   "source": [
    "# Data Cleaning\n",
    "import pandas as pd\n",
    "import matplotlib.pyplot as plt\n",
    "from scipy import stats"
   ]
  },
  {
   "cell_type": "markdown",
   "metadata": {},
   "source": [
    "# Raw"
   ]
  },
  {
   "cell_type": "code",
   "execution_count": 17,
   "metadata": {},
   "outputs": [
    {
     "data": {
      "text/html": [
       "<div>\n",
       "<style scoped>\n",
       "    .dataframe tbody tr th:only-of-type {\n",
       "        vertical-align: middle;\n",
       "    }\n",
       "\n",
       "    .dataframe tbody tr th {\n",
       "        vertical-align: top;\n",
       "    }\n",
       "\n",
       "    .dataframe thead th {\n",
       "        text-align: right;\n",
       "    }\n",
       "</style>\n",
       "<table border=\"1\" class=\"dataframe\">\n",
       "  <thead>\n",
       "    <tr style=\"text-align: right;\">\n",
       "      <th></th>\n",
       "      <th>Product</th>\n",
       "      <th>Country</th>\n",
       "      <th>Year</th>\n",
       "      <th>Population</th>\n",
       "      <th>Production (t)</th>\n",
       "      <th>production__tonnes__per_capita</th>\n",
       "      <th>Production per capita (kg)</th>\n",
       "      <th>Yield (t/ha)</th>\n",
       "      <th>Yield (kg/animal)</th>\n",
       "      <th>Land Use (ha)</th>\n",
       "      <th>...</th>\n",
       "      <th>other_uses__tonnes__per_capita</th>\n",
       "      <th>Other uses per capita (kg)</th>\n",
       "      <th>Supply chain waste (t)</th>\n",
       "      <th>waste_in_supply_chain__tonnes__per_capita</th>\n",
       "      <th>Supply chain waste per capita (kg)</th>\n",
       "      <th>Food supply (kg per capita per year)</th>\n",
       "      <th>Food supply (g per capita per day)</th>\n",
       "      <th>Food supply (kcal per capita per day)</th>\n",
       "      <th>Food supply (Protein g per capita per day)</th>\n",
       "      <th>Food supply (Fat g per capita per day)</th>\n",
       "    </tr>\n",
       "  </thead>\n",
       "  <tbody>\n",
       "    <tr>\n",
       "      <th>0</th>\n",
       "      <td>NaN</td>\n",
       "      <td>Afghanistan</td>\n",
       "      <td>1961</td>\n",
       "      <td>8790140.0</td>\n",
       "      <td>700000.0</td>\n",
       "      <td>0.079635</td>\n",
       "      <td>79.634680</td>\n",
       "      <td>1.4000</td>\n",
       "      <td>NaN</td>\n",
       "      <td>500000.0</td>\n",
       "      <td>...</td>\n",
       "      <td>NaN</td>\n",
       "      <td>NaN</td>\n",
       "      <td>70000.0</td>\n",
       "      <td>0.007963</td>\n",
       "      <td>7.963468</td>\n",
       "      <td>45.787930</td>\n",
       "      <td>125.446382</td>\n",
       "      <td>387.08370</td>\n",
       "      <td>10.237346</td>\n",
       "      <td>5.439545</td>\n",
       "    </tr>\n",
       "    <tr>\n",
       "      <th>1</th>\n",
       "      <td>NaN</td>\n",
       "      <td>Afghanistan</td>\n",
       "      <td>1962</td>\n",
       "      <td>8969055.0</td>\n",
       "      <td>700000.0</td>\n",
       "      <td>0.078046</td>\n",
       "      <td>78.046130</td>\n",
       "      <td>1.4000</td>\n",
       "      <td>NaN</td>\n",
       "      <td>500000.0</td>\n",
       "      <td>...</td>\n",
       "      <td>NaN</td>\n",
       "      <td>NaN</td>\n",
       "      <td>70000.0</td>\n",
       "      <td>0.007805</td>\n",
       "      <td>7.804613</td>\n",
       "      <td>44.879000</td>\n",
       "      <td>122.956163</td>\n",
       "      <td>379.35650</td>\n",
       "      <td>10.029739</td>\n",
       "      <td>5.330847</td>\n",
       "    </tr>\n",
       "    <tr>\n",
       "      <th>2</th>\n",
       "      <td>NaN</td>\n",
       "      <td>Afghanistan</td>\n",
       "      <td>1963</td>\n",
       "      <td>9157463.0</td>\n",
       "      <td>713000.0</td>\n",
       "      <td>0.077860</td>\n",
       "      <td>77.859990</td>\n",
       "      <td>1.4260</td>\n",
       "      <td>NaN</td>\n",
       "      <td>500000.0</td>\n",
       "      <td>...</td>\n",
       "      <td>NaN</td>\n",
       "      <td>NaN</td>\n",
       "      <td>71000.0</td>\n",
       "      <td>0.007753</td>\n",
       "      <td>7.753239</td>\n",
       "      <td>44.785263</td>\n",
       "      <td>122.699349</td>\n",
       "      <td>378.59918</td>\n",
       "      <td>10.015743</td>\n",
       "      <td>5.324051</td>\n",
       "    </tr>\n",
       "    <tr>\n",
       "      <th>3</th>\n",
       "      <td>NaN</td>\n",
       "      <td>Afghanistan</td>\n",
       "      <td>1964</td>\n",
       "      <td>9355510.0</td>\n",
       "      <td>720000.0</td>\n",
       "      <td>0.076960</td>\n",
       "      <td>76.960000</td>\n",
       "      <td>1.4257</td>\n",
       "      <td>NaN</td>\n",
       "      <td>505000.0</td>\n",
       "      <td>...</td>\n",
       "      <td>NaN</td>\n",
       "      <td>NaN</td>\n",
       "      <td>72000.0</td>\n",
       "      <td>0.007696</td>\n",
       "      <td>7.696000</td>\n",
       "      <td>44.308723</td>\n",
       "      <td>121.393760</td>\n",
       "      <td>374.53220</td>\n",
       "      <td>9.908746</td>\n",
       "      <td>5.265616</td>\n",
       "    </tr>\n",
       "    <tr>\n",
       "      <th>4</th>\n",
       "      <td>NaN</td>\n",
       "      <td>Afghanistan</td>\n",
       "      <td>1965</td>\n",
       "      <td>9565154.0</td>\n",
       "      <td>720000.0</td>\n",
       "      <td>0.075273</td>\n",
       "      <td>75.273220</td>\n",
       "      <td>1.4400</td>\n",
       "      <td>NaN</td>\n",
       "      <td>500000.0</td>\n",
       "      <td>...</td>\n",
       "      <td>NaN</td>\n",
       "      <td>NaN</td>\n",
       "      <td>72000.0</td>\n",
       "      <td>0.007527</td>\n",
       "      <td>7.527323</td>\n",
       "      <td>43.336914</td>\n",
       "      <td>118.731270</td>\n",
       "      <td>366.32706</td>\n",
       "      <td>9.688275</td>\n",
       "      <td>5.145301</td>\n",
       "    </tr>\n",
       "    <tr>\n",
       "      <th>5</th>\n",
       "      <td>NaN</td>\n",
       "      <td>Afghanistan</td>\n",
       "      <td>1966</td>\n",
       "      <td>9783153.0</td>\n",
       "      <td>720000.0</td>\n",
       "      <td>0.073596</td>\n",
       "      <td>73.595904</td>\n",
       "      <td>1.4400</td>\n",
       "      <td>NaN</td>\n",
       "      <td>500000.0</td>\n",
       "      <td>...</td>\n",
       "      <td>NaN</td>\n",
       "      <td>NaN</td>\n",
       "      <td>72000.0</td>\n",
       "      <td>0.007360</td>\n",
       "      <td>7.359590</td>\n",
       "      <td>42.214058</td>\n",
       "      <td>115.654952</td>\n",
       "      <td>356.85892</td>\n",
       "      <td>9.435363</td>\n",
       "      <td>5.013813</td>\n",
       "    </tr>\n",
       "    <tr>\n",
       "      <th>6</th>\n",
       "      <td>NaN</td>\n",
       "      <td>Afghanistan</td>\n",
       "      <td>1967</td>\n",
       "      <td>10010037.0</td>\n",
       "      <td>768000.0</td>\n",
       "      <td>0.076723</td>\n",
       "      <td>76.722994</td>\n",
       "      <td>1.4144</td>\n",
       "      <td>NaN</td>\n",
       "      <td>543000.0</td>\n",
       "      <td>...</td>\n",
       "      <td>NaN</td>\n",
       "      <td>NaN</td>\n",
       "      <td>78000.0</td>\n",
       "      <td>0.007792</td>\n",
       "      <td>7.792179</td>\n",
       "      <td>45.350384</td>\n",
       "      <td>124.247626</td>\n",
       "      <td>383.33893</td>\n",
       "      <td>10.140268</td>\n",
       "      <td>5.381592</td>\n",
       "    </tr>\n",
       "    <tr>\n",
       "      <th>7</th>\n",
       "      <td>NaN</td>\n",
       "      <td>Afghanistan</td>\n",
       "      <td>1968</td>\n",
       "      <td>10247782.0</td>\n",
       "      <td>773000.0</td>\n",
       "      <td>0.075431</td>\n",
       "      <td>75.430960</td>\n",
       "      <td>1.7064</td>\n",
       "      <td>NaN</td>\n",
       "      <td>453000.0</td>\n",
       "      <td>...</td>\n",
       "      <td>NaN</td>\n",
       "      <td>NaN</td>\n",
       "      <td>77000.0</td>\n",
       "      <td>0.007514</td>\n",
       "      <td>7.513821</td>\n",
       "      <td>43.701180</td>\n",
       "      <td>119.729259</td>\n",
       "      <td>369.39188</td>\n",
       "      <td>9.773785</td>\n",
       "      <td>5.188174</td>\n",
       "    </tr>\n",
       "  </tbody>\n",
       "</table>\n",
       "<p>8 rows × 40 columns</p>\n",
       "</div>"
      ],
      "text/plain": [
       "   Product      Country  Year  Population  Production (t)  \\\n",
       "0      NaN  Afghanistan  1961   8790140.0        700000.0   \n",
       "1      NaN  Afghanistan  1962   8969055.0        700000.0   \n",
       "2      NaN  Afghanistan  1963   9157463.0        713000.0   \n",
       "3      NaN  Afghanistan  1964   9355510.0        720000.0   \n",
       "4      NaN  Afghanistan  1965   9565154.0        720000.0   \n",
       "5      NaN  Afghanistan  1966   9783153.0        720000.0   \n",
       "6      NaN  Afghanistan  1967  10010037.0        768000.0   \n",
       "7      NaN  Afghanistan  1968  10247782.0        773000.0   \n",
       "\n",
       "   production__tonnes__per_capita  Production per capita (kg)  Yield (t/ha)  \\\n",
       "0                        0.079635                   79.634680        1.4000   \n",
       "1                        0.078046                   78.046130        1.4000   \n",
       "2                        0.077860                   77.859990        1.4260   \n",
       "3                        0.076960                   76.960000        1.4257   \n",
       "4                        0.075273                   75.273220        1.4400   \n",
       "5                        0.073596                   73.595904        1.4400   \n",
       "6                        0.076723                   76.722994        1.4144   \n",
       "7                        0.075431                   75.430960        1.7064   \n",
       "\n",
       "   Yield (kg/animal)  Land Use (ha)  ...  other_uses__tonnes__per_capita  \\\n",
       "0                NaN       500000.0  ...                             NaN   \n",
       "1                NaN       500000.0  ...                             NaN   \n",
       "2                NaN       500000.0  ...                             NaN   \n",
       "3                NaN       505000.0  ...                             NaN   \n",
       "4                NaN       500000.0  ...                             NaN   \n",
       "5                NaN       500000.0  ...                             NaN   \n",
       "6                NaN       543000.0  ...                             NaN   \n",
       "7                NaN       453000.0  ...                             NaN   \n",
       "\n",
       "   Other uses per capita (kg)  Supply chain waste (t)  \\\n",
       "0                         NaN                 70000.0   \n",
       "1                         NaN                 70000.0   \n",
       "2                         NaN                 71000.0   \n",
       "3                         NaN                 72000.0   \n",
       "4                         NaN                 72000.0   \n",
       "5                         NaN                 72000.0   \n",
       "6                         NaN                 78000.0   \n",
       "7                         NaN                 77000.0   \n",
       "\n",
       "   waste_in_supply_chain__tonnes__per_capita  \\\n",
       "0                                   0.007963   \n",
       "1                                   0.007805   \n",
       "2                                   0.007753   \n",
       "3                                   0.007696   \n",
       "4                                   0.007527   \n",
       "5                                   0.007360   \n",
       "6                                   0.007792   \n",
       "7                                   0.007514   \n",
       "\n",
       "   Supply chain waste per capita (kg)  Food supply (kg per capita per year)  \\\n",
       "0                            7.963468                             45.787930   \n",
       "1                            7.804613                             44.879000   \n",
       "2                            7.753239                             44.785263   \n",
       "3                            7.696000                             44.308723   \n",
       "4                            7.527323                             43.336914   \n",
       "5                            7.359590                             42.214058   \n",
       "6                            7.792179                             45.350384   \n",
       "7                            7.513821                             43.701180   \n",
       "\n",
       "   Food supply (g per capita per day)  Food supply (kcal per capita per day)  \\\n",
       "0                          125.446382                              387.08370   \n",
       "1                          122.956163                              379.35650   \n",
       "2                          122.699349                              378.59918   \n",
       "3                          121.393760                              374.53220   \n",
       "4                          118.731270                              366.32706   \n",
       "5                          115.654952                              356.85892   \n",
       "6                          124.247626                              383.33893   \n",
       "7                          119.729259                              369.39188   \n",
       "\n",
       "   Food supply (Protein g per capita per day)  \\\n",
       "0                                   10.237346   \n",
       "1                                   10.029739   \n",
       "2                                   10.015743   \n",
       "3                                    9.908746   \n",
       "4                                    9.688275   \n",
       "5                                    9.435363   \n",
       "6                                   10.140268   \n",
       "7                                    9.773785   \n",
       "\n",
       "   Food supply (Fat g per capita per day)  \n",
       "0                                5.439545  \n",
       "1                                5.330847  \n",
       "2                                5.324051  \n",
       "3                                5.265616  \n",
       "4                                5.145301  \n",
       "5                                5.013813  \n",
       "6                                5.381592  \n",
       "7                                5.188174  \n",
       "\n",
       "[8 rows x 40 columns]"
      ]
     },
     "execution_count": 17,
     "metadata": {},
     "output_type": "execute_result"
    }
   ],
   "source": [
    "raw = pd.read_csv('global-food.csv'\n",
    "                  ,delimiter=',')\n",
    "df = raw.copy()\n",
    "df.head(8)"
   ]
  },
  {
   "cell_type": "code",
   "execution_count": 18,
   "metadata": {},
   "outputs": [
    {
     "name": "stdout",
     "output_type": "stream",
     "text": [
      "<class 'pandas.core.frame.DataFrame'>\n",
      "RangeIndex: 13401 entries, 0 to 13400\n",
      "Data columns (total 40 columns):\n",
      " #   Column                                       Non-Null Count  Dtype  \n",
      "---  ------                                       --------------  -----  \n",
      " 0   Product                                      0 non-null      float64\n",
      " 1   Country                                      13401 non-null  object \n",
      " 2   Year                                         13401 non-null  int64  \n",
      " 3   Population                                   13367 non-null  float64\n",
      " 4   Production (t)                               11912 non-null  float64\n",
      " 5   production__tonnes__per_capita               10002 non-null  float64\n",
      " 6   Production per capita (kg)                   10002 non-null  float64\n",
      " 7   Yield (t/ha)                                 11783 non-null  float64\n",
      " 8   Yield (kg/animal)                            0 non-null      float64\n",
      " 9   Land Use (ha)                                11911 non-null  float64\n",
      " 10  area_harvested__ha__per_capita               10001 non-null  float64\n",
      " 11  Land Use per capita (m²)                     10001 non-null  float64\n",
      " 12  Producing or slaughtered animals             0 non-null      float64\n",
      " 13  Producing or slaughtered animals per capita  0 non-null      float64\n",
      " 14  Imports (t)                                  12515 non-null  float64\n",
      " 15  imports__tonnes__per_capita                  12359 non-null  float64\n",
      " 16  Imports per capita (kg)                      12359 non-null  float64\n",
      " 17  Exports (t)                                  11116 non-null  float64\n",
      " 18  exports__tonnes__per_capita                  10965 non-null  float64\n",
      " 19  Exports per capita (kg)                      10965 non-null  float64\n",
      " 20  Domestic supply (t)                          12516 non-null  float64\n",
      " 21  domestic_supply__tonnes__per_capita          12360 non-null  float64\n",
      " 22  Domestic supply per capita (kg)              12360 non-null  float64\n",
      " 23  Food (t)                                     12243 non-null  float64\n",
      " 24  food__tonnes__per_capita                     12087 non-null  float64\n",
      " 25  Food per capita (kg)                         12087 non-null  float64\n",
      " 26  Animal feed (t)                              11992 non-null  float64\n",
      " 27  feed__tonnes__per_capita                     11836 non-null  float64\n",
      " 28  Animal feed per capita (kg)                  11836 non-null  float64\n",
      " 29  Other uses (t)                               9933 non-null   float64\n",
      " 30  other_uses__tonnes__per_capita               9813 non-null   float64\n",
      " 31  Other uses per capita (kg)                   9813 non-null   float64\n",
      " 32  Supply chain waste (t)                       11246 non-null  float64\n",
      " 33  waste_in_supply_chain__tonnes__per_capita    11150 non-null  float64\n",
      " 34  Supply chain waste per capita (kg)           11150 non-null  float64\n",
      " 35  Food supply (kg per capita per year)         12087 non-null  float64\n",
      " 36  Food supply (g per capita per day)           12087 non-null  float64\n",
      " 37  Food supply (kcal per capita per day)        12183 non-null  float64\n",
      " 38  Food supply (Protein g per capita per day)   11987 non-null  float64\n",
      " 39  Food supply (Fat g per capita per day)       11787 non-null  float64\n",
      "dtypes: float64(38), int64(1), object(1)\n",
      "memory usage: 4.1+ MB\n"
     ]
    }
   ],
   "source": [
    "df.info()"
   ]
  },
  {
   "cell_type": "code",
   "execution_count": 19,
   "metadata": {},
   "outputs": [
    {
     "name": "stdout",
     "output_type": "stream",
     "text": [
      "<class 'pandas.core.frame.DataFrame'>\n",
      "RangeIndex: 13401 entries, 0 to 13400\n",
      "Data columns (total 12 columns):\n",
      " #   Column                  Non-Null Count  Dtype  \n",
      "---  ------                  --------------  -----  \n",
      " 0   Country                 13401 non-null  object \n",
      " 1   Year                    13401 non-null  int64  \n",
      " 2   Population              13367 non-null  float64\n",
      " 3   Production (t)          11912 non-null  float64\n",
      " 4   Yield (t/ha)            11783 non-null  float64\n",
      " 5   Land Use (ha)           11911 non-null  float64\n",
      " 6   Imports (t)             12515 non-null  float64\n",
      " 7   Exports (t)             11116 non-null  float64\n",
      " 8   Domestic supply (t)     12516 non-null  float64\n",
      " 9   Food (t)                12243 non-null  float64\n",
      " 10  Animal feed (t)         11992 non-null  float64\n",
      " 11  Supply chain waste (t)  11246 non-null  float64\n",
      "dtypes: float64(10), int64(1), object(1)\n",
      "memory usage: 1.2+ MB\n"
     ]
    }
   ],
   "source": [
    "df = df.drop(columns=['Product'\n",
    "                 ,'production__tonnes__per_capita'\n",
    "                 ,'Production per capita (kg)'\n",
    "                 ,'Yield (kg/animal)'\n",
    "                 ,'area_harvested__ha__per_capita'\n",
    "                 ,'Imports per capita (kg)'\n",
    "                 ,'Yield (kg/animal)'\n",
    "                 ,'area_harvested__ha__per_capita'\n",
    "                 ,'Land Use per capita (m²)'\n",
    "                 ,'Producing or slaughtered animals'\n",
    "                 ,'Producing or slaughtered animals per capita'\n",
    "                 ,'imports__tonnes__per_capita'\n",
    "                 ,'Imports per capita (kg)'\n",
    "                 ,'exports__tonnes__per_capita'\n",
    "                 ,'Exports per capita (kg)'\n",
    "                 ,'domestic_supply__tonnes__per_capita'\n",
    "                 ,'Domestic supply per capita (kg)'\n",
    "                 ,'food__tonnes__per_capita'\n",
    "                 ,'Food per capita (kg)'\n",
    "                 ,'feed__tonnes__per_capita'\n",
    "                 ,'Animal feed per capita (kg)'\n",
    "                 ,'Other uses (t)'\n",
    "                 ,'other_uses__tonnes__per_capita'\n",
    "                 ,'Other uses per capita (kg)'\n",
    "                 ,'waste_in_supply_chain__tonnes__per_capita'\n",
    "                 ,'Supply chain waste per capita (kg)'\n",
    "                 ,'Food supply (kg per capita per year)'\n",
    "                 ,'Food supply (g per capita per day)'\n",
    "                 ,'Food supply (kcal per capita per day)'\n",
    "                 ,'Food supply (Protein g per capita per day)'\n",
    "                 ,'Food supply (Fat g per capita per day)'])\n",
    "df.info()"
   ]
  },
  {
   "cell_type": "code",
   "execution_count": 20,
   "metadata": {},
   "outputs": [
    {
     "name": "stdout",
     "output_type": "stream",
     "text": [
      "<class 'pandas.core.frame.DataFrame'>\n",
      "RangeIndex: 13401 entries, 0 to 13400\n",
      "Data columns (total 12 columns):\n",
      " #   Column              Non-Null Count  Dtype  \n",
      "---  ------              --------------  -----  \n",
      " 0   Country             13401 non-null  object \n",
      " 1   Year                13401 non-null  int64  \n",
      " 2   Population          13367 non-null  float64\n",
      " 3   Production          11912 non-null  float64\n",
      " 4   Yield               11783 non-null  float64\n",
      " 5   Land_used           11911 non-null  float64\n",
      " 6   Imports             12515 non-null  float64\n",
      " 7   Exports             11116 non-null  float64\n",
      " 8   Domestic_supply     12516 non-null  float64\n",
      " 9   Food                12243 non-null  float64\n",
      " 10  Animal_feed         11992 non-null  float64\n",
      " 11  Supply_chain_waste  11246 non-null  float64\n",
      "dtypes: float64(10), int64(1), object(1)\n",
      "memory usage: 1.2+ MB\n"
     ]
    }
   ],
   "source": [
    "df.rename(columns = {'Production (t)':'Production' # in tonnes\n",
    "                     ,'Yield (t/ha)':'Yield' # in tonnes\n",
    "                     ,'Land Use (ha)':'Land_used' # in hectare\n",
    "                     ,'Imports (t)':'Imports' # in tonnes\n",
    "                     ,'Exports (t)':'Exports' # in tonnes\n",
    "                     ,'Domestic supply (t)':'Domestic_supply' # in tonnes\n",
    "                     ,'Food (t)':'Food' # in tonnes\n",
    "                     ,'Animal feed (t)':'Animal_feed' # in tonnes\n",
    "                     ,'Supply chain waste (t)':'Supply_chain_waste' # in tonnes\n",
    "                     }, inplace=True)\n",
    "df.info()"
   ]
  },
  {
   "cell_type": "code",
   "execution_count": 21,
   "metadata": {},
   "outputs": [
    {
     "data": {
      "text/plain": [
       "Country                  0\n",
       "Year                     0\n",
       "Population              34\n",
       "Production            1489\n",
       "Yield                 1618\n",
       "Land_used             1490\n",
       "Imports                886\n",
       "Exports               2285\n",
       "Domestic_supply        885\n",
       "Food                  1158\n",
       "Animal_feed           1409\n",
       "Supply_chain_waste    2155\n",
       "dtype: int64"
      ]
     },
     "execution_count": 21,
     "metadata": {},
     "output_type": "execute_result"
    }
   ],
   "source": [
    "df.isna().sum()"
   ]
  },
  {
   "cell_type": "code",
   "execution_count": 22,
   "metadata": {},
   "outputs": [
    {
     "data": {
      "text/plain": [
       "0"
      ]
     },
     "execution_count": 22,
     "metadata": {},
     "output_type": "execute_result"
    }
   ],
   "source": [
    "df.duplicated().sum()"
   ]
  },
  {
   "cell_type": "markdown",
   "metadata": {},
   "source": [
    "Country"
   ]
  },
  {
   "cell_type": "code",
   "execution_count": 23,
   "metadata": {},
   "outputs": [
    {
     "data": {
      "text/plain": [
       "array(['Afghanistan', 'Africa', 'Africa (FAO)', 'Albania', 'Algeria',\n",
       "       'Americas (FAO)', 'Angola', 'Antigua and Barbuda', 'Argentina',\n",
       "       'Armenia', 'Asia', 'Asia (FAO)', 'Australia', 'Austria',\n",
       "       'Azerbaijan', 'Bahamas', 'Bahrain', 'Bangladesh', 'Barbados',\n",
       "       'Belarus', 'Belgium', 'Belgium-Luxembourg (FAO)', 'Belize',\n",
       "       'Benin', 'Bermuda', 'Bhutan', 'Bolivia', 'Bosnia and Herzegovina',\n",
       "       'Botswana', 'Brazil', 'Brunei', 'Bulgaria', 'Burkina Faso',\n",
       "       'Burundi', 'Cambodia', 'Cameroon', 'Canada', 'Cape Verde',\n",
       "       'Caribbean (FAO)', 'Central African Republic',\n",
       "       'Central America (FAO)', 'Central Asia (FAO)', 'Chad', 'Chile',\n",
       "       'China', 'China (FAO)', 'Colombia', 'Comoros', 'Congo',\n",
       "       'Costa Rica', \"Cote d'Ivoire\", 'Croatia', 'Cuba', 'Cyprus',\n",
       "       'Czechia', 'Czechoslovakia', 'Democratic Republic of Congo',\n",
       "       'Denmark', 'Djibouti', 'Dominica', 'Dominican Republic',\n",
       "       'East Timor', 'Eastern Africa (FAO)', 'Eastern Asia (FAO)',\n",
       "       'Eastern Europe (FAO)', 'Ecuador', 'Egypt', 'El Salvador',\n",
       "       'Eritrea', 'Estonia', 'Eswatini', 'Ethiopia', 'Ethiopia (former)',\n",
       "       'Europe', 'Europe (FAO)', 'European Union (27)',\n",
       "       'European Union (27) (FAO)', 'Fiji', 'Finland', 'France',\n",
       "       'French Guiana', 'French Polynesia', 'Gabon', 'Gambia', 'Georgia',\n",
       "       'Germany', 'Ghana', 'Greece', 'Grenada', 'Guadeloupe', 'Guatemala',\n",
       "       'Guinea', 'Guinea-Bissau', 'Guyana', 'Haiti',\n",
       "       'High-income countries', 'Honduras', 'Hong Kong', 'Hungary',\n",
       "       'Iceland', 'India', 'Indonesia', 'Iran', 'Iraq', 'Ireland',\n",
       "       'Israel', 'Italy', 'Jamaica', 'Japan', 'Jordan', 'Kazakhstan',\n",
       "       'Kenya', 'Kiribati', 'Kuwait', 'Kyrgyzstan',\n",
       "       'Land Locked Developing Countries (FAO)', 'Laos', 'Latvia',\n",
       "       'Least Developed Countries (FAO)', 'Lebanon', 'Lesotho', 'Liberia',\n",
       "       'Libya', 'Lithuania', 'Low Income Food Deficit Countries (FAO)',\n",
       "       'Low-income countries', 'Lower-middle-income countries',\n",
       "       'Luxembourg', 'Macao', 'Madagascar', 'Malawi', 'Malaysia',\n",
       "       'Maldives', 'Mali', 'Malta', 'Mauritania', 'Mauritius',\n",
       "       'Melanesia', 'Mexico', 'Micronesia (FAO)', 'Micronesia (country)',\n",
       "       'Middle Africa (FAO)', 'Moldova', 'Mongolia', 'Montenegro',\n",
       "       'Morocco', 'Mozambique', 'Myanmar', 'Namibia', 'Nauru', 'Nepal',\n",
       "       'Net Food Importing Developing Countries (FAO)', 'Netherlands',\n",
       "       'Netherlands Antilles', 'New Caledonia', 'New Zealand',\n",
       "       'Nicaragua', 'Niger', 'Nigeria', 'North America', 'North Korea',\n",
       "       'North Macedonia', 'Northern Africa (FAO)',\n",
       "       'Northern America (FAO)', 'Northern Europe (FAO)', 'Norway',\n",
       "       'Oceania', 'Oceania (FAO)', 'Oman', 'Pakistan', 'Panama',\n",
       "       'Papua New Guinea', 'Paraguay', 'Peru', 'Philippines', 'Poland',\n",
       "       'Polynesia', 'Portugal', 'Puerto Rico', 'Qatar', 'Reunion',\n",
       "       'Romania', 'Russia', 'Rwanda', 'Saint Kitts and Nevis',\n",
       "       'Saint Lucia', 'Saint Vincent and the Grenadines', 'Samoa',\n",
       "       'Sao Tome and Principe', 'Saudi Arabia', 'Senegal', 'Serbia',\n",
       "       'Serbia and Montenegro', 'Seychelles', 'Sierra Leone', 'Slovakia',\n",
       "       'Slovenia', 'Small Island Developing States (FAO)',\n",
       "       'Solomon Islands', 'Somalia', 'South Africa', 'South America',\n",
       "       'South America (FAO)', 'South Korea', 'South Sudan',\n",
       "       'South-eastern Asia (FAO)', 'Southern Africa (FAO)',\n",
       "       'Southern Asia (FAO)', 'Southern Europe (FAO)', 'Spain',\n",
       "       'Sri Lanka', 'Sudan', 'Sudan (former)', 'Suriname', 'Sweden',\n",
       "       'Switzerland', 'Syria', 'Taiwan', 'Tajikistan', 'Tanzania',\n",
       "       'Thailand', 'Togo', 'Trinidad and Tobago', 'Tunisia', 'Turkey',\n",
       "       'Turkmenistan', 'USSR', 'Uganda', 'Ukraine',\n",
       "       'United Arab Emirates', 'United Kingdom', 'United States',\n",
       "       'Upper-middle-income countries', 'Uruguay', 'Uzbekistan',\n",
       "       'Vanuatu', 'Venezuela', 'Vietnam', 'Western Africa (FAO)',\n",
       "       'Western Asia (FAO)', 'Western Europe (FAO)', 'World', 'Yemen',\n",
       "       'Yugoslavia', 'Zambia', 'Zimbabwe'], dtype=object)"
      ]
     },
     "execution_count": 23,
     "metadata": {},
     "output_type": "execute_result"
    }
   ],
   "source": [
    "df['Country'].unique()"
   ]
  },
  {
   "cell_type": "code",
   "execution_count": 24,
   "metadata": {},
   "outputs": [
    {
     "data": {
      "text/plain": [
       "0"
      ]
     },
     "execution_count": 24,
     "metadata": {},
     "output_type": "execute_result"
    }
   ],
   "source": [
    "# Check if Africa and Africa (FAO) is the same\n",
    "df_temp = df.drop(columns='Country')\n",
    "df_temp.duplicated().sum()"
   ]
  },
  {
   "cell_type": "code",
   "execution_count": 25,
   "metadata": {},
   "outputs": [
    {
     "name": "stderr",
     "output_type": "stream",
     "text": [
      "C:\\Users\\Gyro A. Madrona\\AppData\\Local\\Temp\\ipykernel_6352\\387869056.py:2: FutureWarning: The default value of regex will change from True to False in a future version.\n",
      "  df['Country'] = df['Country'].str.replace('(FAO)', '')\n",
      "C:\\Users\\Gyro A. Madrona\\AppData\\Local\\Temp\\ipykernel_6352\\387869056.py:3: FutureWarning: The default value of regex will change from True to False in a future version.\n",
      "  df['Country'] = df['Country'].str.replace('(27)', '')\n",
      "C:\\Users\\Gyro A. Madrona\\AppData\\Local\\Temp\\ipykernel_6352\\387869056.py:4: FutureWarning: The default value of regex will change from True to False in a future version.\n",
      "  df['Country'] = df['Country'].str.replace('(former)', '')\n",
      "C:\\Users\\Gyro A. Madrona\\AppData\\Local\\Temp\\ipykernel_6352\\387869056.py:5: FutureWarning: The default value of regex will change from True to False in a future version.\n",
      "  df['Country'] = df['Country'].str.replace('(country)', '')\n",
      "C:\\Users\\Gyro A. Madrona\\AppData\\Local\\Temp\\ipykernel_6352\\387869056.py:17: FutureWarning: The default value of regex will change from True to False in a future version.\n",
      "  df['Country'] = df['Country'].str.replace('\\(\\)', '')\n"
     ]
    }
   ],
   "source": [
    "# Pre-cleaning countries by groupings\n",
    "df['Country'] = df['Country'].str.replace('(FAO)', '')\n",
    "df['Country'] = df['Country'].str.replace('(27)', '')\n",
    "df['Country'] = df['Country'].str.replace('(former)', '')\n",
    "df['Country'] = df['Country'].str.replace('(country)', '')\n",
    "df['Country'] = df['Country'].str.replace('USSR', 'Russia')\n",
    "df['Country'] = df['Country'].where(~df['Country'].str.contains('Asia'),'Asia')\n",
    "df['Country'] = df['Country'].where(~df['Country'].str.contains('Africa'),'Africa')\n",
    "df['Country'] = df['Country'].where(~df['Country'].str.contains('European'),'Europe')\n",
    "df['Country'] = df['Country'].where(~df['Country'].str.contains('Europe'),'Europe')\n",
    "df['Country'] = df['Country'].where(~df['Country'].str.contains('Belgium'),'Belgium')\n",
    "df['Country'] = df['Country'].where(~df['Country'].str.contains('High'),'High_Income')\n",
    "df['Country'] = df['Country'].where(~df['Country'].str.contains('Develop'),'Developed')\n",
    "df['Country'] = df['Country'].where(~df['Country'].str.contains('middle'),'Middle_Income')\n",
    "df['Country'] = df['Country'].where(~df['Country'].str.contains('Middle'),'Middle_Income')\n",
    "df['Country'] = df['Country'].where(~df['Country'].str.contains('Low'),'Low_Income')\n",
    "df['Country'] = df['Country'].str.replace('\\(\\)', '')\n",
    "df['Country'] = df['Country'].str.strip()"
   ]
  },
  {
   "cell_type": "code",
   "execution_count": 26,
   "metadata": {},
   "outputs": [],
   "source": [
    "# Clean Country\n",
    "df['Country'].to_csv(r'raw\\raw-country.csv'\n",
    "                     ,index=False)"
   ]
  },
  {
   "cell_type": "markdown",
   "metadata": {},
   "source": [
    "Year"
   ]
  },
  {
   "cell_type": "code",
   "execution_count": 27,
   "metadata": {},
   "outputs": [
    {
     "data": {
      "text/plain": [
       "array([1961, 1962, 1963, 1964, 1965, 1966, 1967, 1968, 1969, 1970, 1971,\n",
       "       1972, 1973, 1974, 1975, 1976, 1977, 1978, 1979, 1980, 1981, 1982,\n",
       "       1983, 1984, 1985, 1986, 1987, 1988, 1989, 1990, 1991, 1992, 1993,\n",
       "       1994, 1995, 1996, 1997, 1998, 1999, 2000, 2001, 2002, 2003, 2004,\n",
       "       2005, 2006, 2007, 2008, 2009, 2010, 2011, 2012, 2013, 2014, 2015,\n",
       "       2016, 2017, 2018, 2019, 2020, 2021], dtype=int64)"
      ]
     },
     "execution_count": 27,
     "metadata": {},
     "output_type": "execute_result"
    }
   ],
   "source": [
    "df['Year'].unique()"
   ]
  },
  {
   "cell_type": "markdown",
   "metadata": {},
   "source": [
    "Population"
   ]
  },
  {
   "cell_type": "code",
   "execution_count": 28,
   "metadata": {},
   "outputs": [
    {
     "data": {
      "text/plain": [
       "'1.697e+08'"
      ]
     },
     "execution_count": 28,
     "metadata": {},
     "output_type": "execute_result"
    }
   ],
   "source": [
    "population_mean = df['Population'].mean()\n",
    "'{:.3e}'.format(population_mean)"
   ]
  },
  {
   "cell_type": "code",
   "execution_count": 29,
   "metadata": {},
   "outputs": [
    {
     "data": {
      "text/plain": [
       "count    1.340100e+04\n",
       "mean     1.696509e+08\n",
       "std      5.749227e+08\n",
       "min      1.215600e+04\n",
       "25%      2.352419e+06\n",
       "50%      1.008765e+07\n",
       "75%      5.330524e+07\n",
       "max      7.909295e+09\n",
       "Name: Population, dtype: float64"
      ]
     },
     "execution_count": 29,
     "metadata": {},
     "output_type": "execute_result"
    }
   ],
   "source": [
    "df['Population'] = df['Population'].fillna(population_mean)\n",
    "df['Population'].describe()"
   ]
  },
  {
   "cell_type": "code",
   "execution_count": 30,
   "metadata": {},
   "outputs": [
    {
     "data": {
      "text/plain": [
       "0"
      ]
     },
     "execution_count": 30,
     "metadata": {},
     "output_type": "execute_result"
    }
   ],
   "source": [
    "df['Population'].isna().sum()"
   ]
  },
  {
   "cell_type": "markdown",
   "metadata": {},
   "source": [
    "Production"
   ]
  },
  {
   "cell_type": "code",
   "execution_count": 31,
   "metadata": {},
   "outputs": [
    {
     "data": {
      "text/plain": [
       "'1.926e+07'"
      ]
     },
     "execution_count": 31,
     "metadata": {},
     "output_type": "execute_result"
    }
   ],
   "source": [
    "production_mean = df['Production'].mean()\n",
    "'{:.3e}'.format(production_mean)"
   ]
  },
  {
   "cell_type": "code",
   "execution_count": 32,
   "metadata": {},
   "outputs": [
    {
     "data": {
      "text/plain": [
       "count    1.340100e+04\n",
       "mean     1.926434e+07\n",
       "std      6.626052e+07\n",
       "min      0.000000e+00\n",
       "25%      4.164000e+04\n",
       "50%      6.597790e+05\n",
       "75%      1.597606e+07\n",
       "max      1.210235e+09\n",
       "Name: Production, dtype: float64"
      ]
     },
     "execution_count": 32,
     "metadata": {},
     "output_type": "execute_result"
    }
   ],
   "source": [
    "df['Production'] = df['Production'].fillna(production_mean)\n",
    "df['Production'].describe()"
   ]
  },
  {
   "cell_type": "code",
   "execution_count": 33,
   "metadata": {},
   "outputs": [
    {
     "data": {
      "text/plain": [
       "0"
      ]
     },
     "execution_count": 33,
     "metadata": {},
     "output_type": "execute_result"
    }
   ],
   "source": [
    "df['Production'].isna().sum()"
   ]
  },
  {
   "cell_type": "markdown",
   "metadata": {},
   "source": [
    "Yield"
   ]
  },
  {
   "cell_type": "code",
   "execution_count": 34,
   "metadata": {},
   "outputs": [
    {
     "data": {
      "text/plain": [
       "3.14"
      ]
     },
     "execution_count": 34,
     "metadata": {},
     "output_type": "execute_result"
    }
   ],
   "source": [
    "yield_mean = df['Yield'].mean()\n",
    "yield_mean.round(2)"
   ]
  },
  {
   "cell_type": "code",
   "execution_count": 35,
   "metadata": {},
   "outputs": [
    {
     "data": {
      "text/plain": [
       "count    13401.000000\n",
       "mean         3.140280\n",
       "std          2.932937\n",
       "min          0.000100\n",
       "25%          1.250000\n",
       "50%          2.345400\n",
       "75%          3.788800\n",
       "max         36.761898\n",
       "Name: Yield, dtype: float64"
      ]
     },
     "execution_count": 35,
     "metadata": {},
     "output_type": "execute_result"
    }
   ],
   "source": [
    "df['Yield'] = df['Yield'].fillna(yield_mean)\n",
    "df['Yield'].describe()"
   ]
  },
  {
   "cell_type": "markdown",
   "metadata": {},
   "source": [
    "Land_used"
   ]
  },
  {
   "cell_type": "code",
   "execution_count": 36,
   "metadata": {},
   "outputs": [
    {
     "data": {
      "text/plain": [
       "'4.883e+06'"
      ]
     },
     "execution_count": 36,
     "metadata": {},
     "output_type": "execute_result"
    }
   ],
   "source": [
    "land_use_mean = df['Land_used'].mean()\n",
    "'{:.3e}'.format(land_use_mean)"
   ]
  },
  {
   "cell_type": "code",
   "execution_count": 37,
   "metadata": {},
   "outputs": [
    {
     "data": {
      "text/plain": [
       "count    1.340100e+04\n",
       "mean     4.882681e+06\n",
       "std      1.353495e+07\n",
       "min      0.000000e+00\n",
       "25%      2.335500e+04\n",
       "50%      3.576450e+05\n",
       "75%      4.882681e+06\n",
       "max      2.058700e+08\n",
       "Name: Land_used, dtype: float64"
      ]
     },
     "execution_count": 37,
     "metadata": {},
     "output_type": "execute_result"
    }
   ],
   "source": [
    "df['Land_used'] = df['Land_used'].fillna(land_use_mean)\n",
    "df['Land_used'].describe()"
   ]
  },
  {
   "cell_type": "code",
   "execution_count": 38,
   "metadata": {},
   "outputs": [
    {
     "data": {
      "text/plain": [
       "0"
      ]
     },
     "execution_count": 38,
     "metadata": {},
     "output_type": "execute_result"
    }
   ],
   "source": [
    "df['Land_used'].isna().sum()"
   ]
  },
  {
   "cell_type": "markdown",
   "metadata": {},
   "source": [
    "Imports"
   ]
  },
  {
   "cell_type": "code",
   "execution_count": 39,
   "metadata": {},
   "outputs": [
    {
     "data": {
      "text/plain": [
       "'2.532e+06'"
      ]
     },
     "execution_count": 39,
     "metadata": {},
     "output_type": "execute_result"
    }
   ],
   "source": [
    "imports_mean = df['Imports'].mean()\n",
    "'{:.3e}'.format(imports_mean)"
   ]
  },
  {
   "cell_type": "code",
   "execution_count": 40,
   "metadata": {},
   "outputs": [
    {
     "data": {
      "text/plain": [
       "count    1.340100e+04\n",
       "mean     2.531725e+06\n",
       "std      8.869664e+06\n",
       "min      0.000000e+00\n",
       "25%      3.000000e+03\n",
       "50%      7.700000e+04\n",
       "75%      1.330000e+06\n",
       "max      1.929960e+08\n",
       "Name: Imports, dtype: float64"
      ]
     },
     "execution_count": 40,
     "metadata": {},
     "output_type": "execute_result"
    }
   ],
   "source": [
    "df['Imports'] = df['Imports'].fillna(imports_mean)\n",
    "df['Imports'].describe()"
   ]
  },
  {
   "cell_type": "code",
   "execution_count": 41,
   "metadata": {},
   "outputs": [
    {
     "data": {
      "text/plain": [
       "0"
      ]
     },
     "execution_count": 41,
     "metadata": {},
     "output_type": "execute_result"
    }
   ],
   "source": [
    "df['Imports'].isna().sum()"
   ]
  },
  {
   "cell_type": "markdown",
   "metadata": {},
   "source": [
    "Exports"
   ]
  },
  {
   "cell_type": "code",
   "execution_count": 42,
   "metadata": {},
   "outputs": [
    {
     "data": {
      "text/plain": [
       "'2.761050e+06'"
      ]
     },
     "execution_count": 42,
     "metadata": {},
     "output_type": "execute_result"
    }
   ],
   "source": [
    "exports_mean = df['Exports'].mean()\n",
    "'{:3e}'.format(exports_mean)"
   ]
  },
  {
   "cell_type": "code",
   "execution_count": 43,
   "metadata": {},
   "outputs": [
    {
     "data": {
      "text/plain": [
       "count    1.340100e+04\n",
       "mean     2.761050e+06\n",
       "std      1.042456e+07\n",
       "min      0.000000e+00\n",
       "25%      0.000000e+00\n",
       "50%      1.700000e+04\n",
       "75%      2.761050e+06\n",
       "max      1.998000e+08\n",
       "Name: Exports, dtype: float64"
      ]
     },
     "execution_count": 43,
     "metadata": {},
     "output_type": "execute_result"
    }
   ],
   "source": [
    "df['Exports'] = df['Exports'].fillna(exports_mean)\n",
    "df['Exports'].describe()"
   ]
  },
  {
   "cell_type": "markdown",
   "metadata": {},
   "source": [
    "Domestic_supply"
   ]
  },
  {
   "cell_type": "code",
   "execution_count": 44,
   "metadata": {},
   "outputs": [
    {
     "data": {
      "text/plain": [
       "'1.762e+07'"
      ]
     },
     "execution_count": 44,
     "metadata": {},
     "output_type": "execute_result"
    }
   ],
   "source": [
    "domestic_mean = df['Domestic_supply'].mean()\n",
    "'{:.3e}'.format(domestic_mean)"
   ]
  },
  {
   "cell_type": "code",
   "execution_count": 45,
   "metadata": {},
   "outputs": [
    {
     "data": {
      "text/plain": [
       "count    1.340100e+04\n",
       "mean     1.761888e+07\n",
       "std      6.217504e+07\n",
       "min      0.000000e+00\n",
       "25%      6.200000e+04\n",
       "50%      7.240000e+05\n",
       "75%      8.428000e+06\n",
       "max      1.174435e+09\n",
       "Name: Domestic_supply, dtype: float64"
      ]
     },
     "execution_count": 45,
     "metadata": {},
     "output_type": "execute_result"
    }
   ],
   "source": [
    "df['Domestic_supply'] = df['Domestic_supply'].fillna(domestic_mean)\n",
    "df['Domestic_supply'].describe()"
   ]
  },
  {
   "cell_type": "code",
   "execution_count": 46,
   "metadata": {},
   "outputs": [
    {
     "data": {
      "text/plain": [
       "0"
      ]
     },
     "execution_count": 46,
     "metadata": {},
     "output_type": "execute_result"
    }
   ],
   "source": [
    "df['Domestic_supply'].isna().sum()"
   ]
  },
  {
   "cell_type": "markdown",
   "metadata": {},
   "source": [
    "Food"
   ]
  },
  {
   "cell_type": "code",
   "execution_count": 47,
   "metadata": {},
   "outputs": [
    {
     "data": {
      "text/plain": [
       "'2.795e+06'"
      ]
     },
     "execution_count": 47,
     "metadata": {},
     "output_type": "execute_result"
    }
   ],
   "source": [
    "food_mean = df['Food'].mean()\n",
    "'{:.3e}'.format(food_mean)"
   ]
  },
  {
   "cell_type": "code",
   "execution_count": 48,
   "metadata": {},
   "outputs": [
    {
     "data": {
      "text/plain": [
       "count    1.340100e+04\n",
       "mean     2.795289e+06\n",
       "std      8.524434e+06\n",
       "min      0.000000e+00\n",
       "25%      1.300000e+04\n",
       "50%      1.830000e+05\n",
       "75%      2.697000e+06\n",
       "max      1.483980e+08\n",
       "Name: Food, dtype: float64"
      ]
     },
     "execution_count": 48,
     "metadata": {},
     "output_type": "execute_result"
    }
   ],
   "source": [
    "df['Food'] = df['Food'].fillna(food_mean)\n",
    "df['Food'].describe()"
   ]
  },
  {
   "cell_type": "code",
   "execution_count": 49,
   "metadata": {},
   "outputs": [
    {
     "data": {
      "text/plain": [
       "0"
      ]
     },
     "execution_count": 49,
     "metadata": {},
     "output_type": "execute_result"
    }
   ],
   "source": [
    "df['Food'].isna().sum()"
   ]
  },
  {
   "cell_type": "markdown",
   "metadata": {},
   "source": [
    "Animal_feed"
   ]
  },
  {
   "cell_type": "code",
   "execution_count": 50,
   "metadata": {},
   "outputs": [
    {
     "data": {
      "text/plain": [
       "'1.154e+07'"
      ]
     },
     "execution_count": 50,
     "metadata": {},
     "output_type": "execute_result"
    }
   ],
   "source": [
    "animal_mean = df['Animal_feed'].mean()\n",
    "'{:.3e}'.format(animal_mean)"
   ]
  },
  {
   "cell_type": "code",
   "execution_count": 51,
   "metadata": {},
   "outputs": [
    {
     "data": {
      "text/plain": [
       "count    1.340100e+04\n",
       "mean     1.154027e+07\n",
       "std      3.902428e+07\n",
       "min      0.000000e+00\n",
       "25%      2.100000e+04\n",
       "50%      3.630000e+05\n",
       "75%      6.544000e+06\n",
       "max      6.834980e+08\n",
       "Name: Animal_feed, dtype: float64"
      ]
     },
     "execution_count": 51,
     "metadata": {},
     "output_type": "execute_result"
    }
   ],
   "source": [
    "df['Animal_feed'] = df['Animal_feed'].fillna(animal_mean)\n",
    "df['Animal_feed'].describe()"
   ]
  },
  {
   "cell_type": "code",
   "execution_count": 52,
   "metadata": {},
   "outputs": [
    {
     "data": {
      "text/plain": [
       "0"
      ]
     },
     "execution_count": 52,
     "metadata": {},
     "output_type": "execute_result"
    }
   ],
   "source": [
    "df['Animal_feed'].isna().sum()"
   ]
  },
  {
   "cell_type": "markdown",
   "metadata": {},
   "source": [
    "Supply_chain_waste"
   ]
  },
  {
   "cell_type": "code",
   "execution_count": 53,
   "metadata": {},
   "outputs": [
    {
     "data": {
      "text/plain": [
       "'9.060e+05'"
      ]
     },
     "execution_count": 53,
     "metadata": {},
     "output_type": "execute_result"
    }
   ],
   "source": [
    "supply_chain_mean = df['Supply_chain_waste'].mean()\n",
    "'{:.3e}'.format(supply_chain_mean)"
   ]
  },
  {
   "cell_type": "code",
   "execution_count": 54,
   "metadata": {},
   "outputs": [
    {
     "data": {
      "text/plain": [
       "count    1.340100e+04\n",
       "mean     9.059988e+05\n",
       "std      2.992946e+06\n",
       "min      0.000000e+00\n",
       "25%      6.000000e+03\n",
       "50%      6.000000e+04\n",
       "75%      9.059988e+05\n",
       "max      6.545600e+07\n",
       "Name: Supply_chain_waste, dtype: float64"
      ]
     },
     "execution_count": 54,
     "metadata": {},
     "output_type": "execute_result"
    }
   ],
   "source": [
    "df['Supply_chain_waste'] = df['Supply_chain_waste'].fillna(supply_chain_mean)\n",
    "df['Supply_chain_waste'].describe()"
   ]
  },
  {
   "cell_type": "code",
   "execution_count": 55,
   "metadata": {},
   "outputs": [
    {
     "data": {
      "text/plain": [
       "0"
      ]
     },
     "execution_count": 55,
     "metadata": {},
     "output_type": "execute_result"
    }
   ],
   "source": [
    "df['Supply_chain_waste'].isna().sum()"
   ]
  },
  {
   "cell_type": "code",
   "execution_count": 56,
   "metadata": {},
   "outputs": [
    {
     "name": "stdout",
     "output_type": "stream",
     "text": [
      "<class 'pandas.core.frame.DataFrame'>\n",
      "RangeIndex: 13401 entries, 0 to 13400\n",
      "Data columns (total 12 columns):\n",
      " #   Column              Non-Null Count  Dtype  \n",
      "---  ------              --------------  -----  \n",
      " 0   Country             13401 non-null  object \n",
      " 1   Year                13401 non-null  int64  \n",
      " 2   Population          13401 non-null  float64\n",
      " 3   Production          13401 non-null  float64\n",
      " 4   Yield               13401 non-null  float64\n",
      " 5   Land_used           13401 non-null  float64\n",
      " 6   Imports             13401 non-null  float64\n",
      " 7   Exports             13401 non-null  float64\n",
      " 8   Domestic_supply     13401 non-null  float64\n",
      " 9   Food                13401 non-null  float64\n",
      " 10  Animal_feed         13401 non-null  float64\n",
      " 11  Supply_chain_waste  13401 non-null  float64\n",
      "dtypes: float64(10), int64(1), object(1)\n",
      "memory usage: 1.2+ MB\n"
     ]
    }
   ],
   "source": [
    "df.info()"
   ]
  },
  {
   "cell_type": "markdown",
   "metadata": {},
   "source": [
    "# Pre-clean"
   ]
  },
  {
   "cell_type": "markdown",
   "metadata": {},
   "source": [
    "Checkpoint:"
   ]
  },
  {
   "cell_type": "code",
   "execution_count": 57,
   "metadata": {},
   "outputs": [],
   "source": [
    "df.to_csv('pre-global-food.csv'\n",
    "          ,index=False)"
   ]
  },
  {
   "cell_type": "code",
   "execution_count": 58,
   "metadata": {},
   "outputs": [
    {
     "name": "stdout",
     "output_type": "stream",
     "text": [
      "<class 'pandas.core.frame.DataFrame'>\n",
      "RangeIndex: 13401 entries, 0 to 13400\n",
      "Data columns (total 12 columns):\n",
      " #   Column              Non-Null Count  Dtype  \n",
      "---  ------              --------------  -----  \n",
      " 0   Country             13401 non-null  object \n",
      " 1   Year                13401 non-null  int64  \n",
      " 2   Population          13401 non-null  float64\n",
      " 3   Production          13401 non-null  float64\n",
      " 4   Yield               13401 non-null  float64\n",
      " 5   Land_used           13401 non-null  float64\n",
      " 6   Imports             13401 non-null  float64\n",
      " 7   Exports             13401 non-null  float64\n",
      " 8   Domestic_supply     13401 non-null  float64\n",
      " 9   Food                13401 non-null  float64\n",
      " 10  Animal_feed         13401 non-null  float64\n",
      " 11  Supply_chain_waste  13401 non-null  float64\n",
      "dtypes: float64(10), int64(1), object(1)\n",
      "memory usage: 1.2+ MB\n"
     ]
    }
   ],
   "source": [
    "df_pre = pd.read_csv('pre-global-food.csv'\n",
    "            ,delimiter=',')\n",
    "df = df_pre.copy()\n",
    "df.info()"
   ]
  },
  {
   "cell_type": "markdown",
   "metadata": {},
   "source": [
    "Countries by Continent"
   ]
  },
  {
   "cell_type": "code",
   "execution_count": 59,
   "metadata": {},
   "outputs": [
    {
     "data": {
      "text/html": [
       "<div>\n",
       "<style scoped>\n",
       "    .dataframe tbody tr th:only-of-type {\n",
       "        vertical-align: middle;\n",
       "    }\n",
       "\n",
       "    .dataframe tbody tr th {\n",
       "        vertical-align: top;\n",
       "    }\n",
       "\n",
       "    .dataframe thead th {\n",
       "        text-align: right;\n",
       "    }\n",
       "</style>\n",
       "<table border=\"1\" class=\"dataframe\">\n",
       "  <thead>\n",
       "    <tr style=\"text-align: right;\">\n",
       "      <th></th>\n",
       "      <th>Country</th>\n",
       "      <th>Continent</th>\n",
       "    </tr>\n",
       "  </thead>\n",
       "  <tbody>\n",
       "    <tr>\n",
       "      <th>0</th>\n",
       "      <td>Afghanistan</td>\n",
       "      <td>Asia</td>\n",
       "    </tr>\n",
       "    <tr>\n",
       "      <th>1</th>\n",
       "      <td>Africa</td>\n",
       "      <td>Africa</td>\n",
       "    </tr>\n",
       "    <tr>\n",
       "      <th>2</th>\n",
       "      <td>Albania</td>\n",
       "      <td>Europe</td>\n",
       "    </tr>\n",
       "    <tr>\n",
       "      <th>3</th>\n",
       "      <td>Algeria</td>\n",
       "      <td>Africa</td>\n",
       "    </tr>\n",
       "    <tr>\n",
       "      <th>4</th>\n",
       "      <td>Americas</td>\n",
       "      <td>Americas</td>\n",
       "    </tr>\n",
       "    <tr>\n",
       "      <th>5</th>\n",
       "      <td>Angola</td>\n",
       "      <td>Africa</td>\n",
       "    </tr>\n",
       "    <tr>\n",
       "      <th>6</th>\n",
       "      <td>Antigua and Barbuda</td>\n",
       "      <td>Americas</td>\n",
       "    </tr>\n",
       "    <tr>\n",
       "      <th>7</th>\n",
       "      <td>Argentina</td>\n",
       "      <td>Americas</td>\n",
       "    </tr>\n",
       "  </tbody>\n",
       "</table>\n",
       "</div>"
      ],
      "text/plain": [
       "               Country Continent\n",
       "0          Afghanistan      Asia\n",
       "1               Africa    Africa\n",
       "2              Albania    Europe\n",
       "3              Algeria    Africa\n",
       "4             Americas  Americas\n",
       "5               Angola    Africa\n",
       "6  Antigua and Barbuda  Americas\n",
       "7            Argentina  Americas"
      ]
     },
     "execution_count": 59,
     "metadata": {},
     "output_type": "execute_result"
    }
   ],
   "source": [
    "df_continent = pd.read_csv(r'raw/countries-by-continent.csv'\n",
    "                           ,delimiter=',')\n",
    "df_continent.head(8)"
   ]
  },
  {
   "cell_type": "code",
   "execution_count": 60,
   "metadata": {},
   "outputs": [
    {
     "data": {
      "text/plain": [
       "Country      0\n",
       "Continent    0\n",
       "dtype: int64"
      ]
     },
     "execution_count": 60,
     "metadata": {},
     "output_type": "execute_result"
    }
   ],
   "source": [
    "df_continent.isna().sum()"
   ]
  },
  {
   "cell_type": "code",
   "execution_count": 61,
   "metadata": {},
   "outputs": [],
   "source": [
    "df = pd.merge(df,df_continent, on='Country', how='left')"
   ]
  },
  {
   "cell_type": "code",
   "execution_count": 62,
   "metadata": {},
   "outputs": [
    {
     "data": {
      "text/plain": [
       "0"
      ]
     },
     "execution_count": 62,
     "metadata": {},
     "output_type": "execute_result"
    }
   ],
   "source": [
    "df['Continent'].isna().sum()"
   ]
  },
  {
   "cell_type": "code",
   "execution_count": 63,
   "metadata": {},
   "outputs": [
    {
     "data": {
      "text/plain": [
       "array(['Asia', 'Africa', 'Europe', 'Americas', 'Oceania', 'World'],\n",
       "      dtype=object)"
      ]
     },
     "execution_count": 63,
     "metadata": {},
     "output_type": "execute_result"
    }
   ],
   "source": [
    "df['Continent'].unique()"
   ]
  },
  {
   "cell_type": "code",
   "execution_count": 64,
   "metadata": {},
   "outputs": [
    {
     "name": "stdout",
     "output_type": "stream",
     "text": [
      "(13645, 13)\n",
      "244\n"
     ]
    },
    {
     "data": {
      "text/plain": [
       "(13401, 13)"
      ]
     },
     "execution_count": 64,
     "metadata": {},
     "output_type": "execute_result"
    }
   ],
   "source": [
    "print(df.shape)\n",
    "print(df.duplicated().sum())\n",
    "df = df.drop_duplicates()\n",
    "df.shape"
   ]
  },
  {
   "cell_type": "markdown",
   "metadata": {},
   "source": [
    "# add Continent"
   ]
  },
  {
   "cell_type": "code",
   "execution_count": 65,
   "metadata": {},
   "outputs": [],
   "source": [
    "df.to_csv(r'raw\\global-food-with-continent.csv'\n",
    "          ,index=False)"
   ]
  },
  {
   "cell_type": "code",
   "execution_count": 66,
   "metadata": {},
   "outputs": [
    {
     "name": "stdout",
     "output_type": "stream",
     "text": [
      "<class 'pandas.core.frame.DataFrame'>\n",
      "RangeIndex: 13401 entries, 0 to 13400\n",
      "Data columns (total 13 columns):\n",
      " #   Column              Non-Null Count  Dtype  \n",
      "---  ------              --------------  -----  \n",
      " 0   Country             13401 non-null  object \n",
      " 1   Year                13401 non-null  int64  \n",
      " 2   Population          13401 non-null  float64\n",
      " 3   Production          13401 non-null  float64\n",
      " 4   Yield               13401 non-null  float64\n",
      " 5   Land_used           13401 non-null  float64\n",
      " 6   Imports             13401 non-null  float64\n",
      " 7   Exports             13401 non-null  float64\n",
      " 8   Domestic_supply     13401 non-null  float64\n",
      " 9   Food                13401 non-null  float64\n",
      " 10  Animal_feed         13401 non-null  float64\n",
      " 11  Supply_chain_waste  13401 non-null  float64\n",
      " 12  Continent           13401 non-null  object \n",
      "dtypes: float64(10), int64(1), object(2)\n",
      "memory usage: 1.3+ MB\n"
     ]
    }
   ],
   "source": [
    "df_with_continent = pd.read_csv(r'raw\\global-food-with-continent.csv'\n",
    "                                ,delimiter=',')\n",
    "df = df_with_continent.copy()\n",
    "df.info()"
   ]
  },
  {
   "cell_type": "code",
   "execution_count": 67,
   "metadata": {},
   "outputs": [
    {
     "name": "stdout",
     "output_type": "stream",
     "text": [
      "0\n"
     ]
    },
    {
     "data": {
      "text/plain": [
       "array([nan, 'Africa', 'Americas', 'Asia', 'Europe', 'Oceania', 'World'],\n",
       "      dtype=object)"
      ]
     },
     "execution_count": 67,
     "metadata": {},
     "output_type": "execute_result"
    }
   ],
   "source": [
    "# Check where country contains a continent\n",
    "# ex. Country = Asia and Continent = Asia\n",
    "print(df['Country'].isna().sum())\n",
    "df['Country'].where(df['Continent']==df['Country']).unique()"
   ]
  },
  {
   "cell_type": "markdown",
   "metadata": {},
   "source": [
    "Checkpoint:"
   ]
  },
  {
   "cell_type": "code",
   "execution_count": 68,
   "metadata": {},
   "outputs": [],
   "source": [
    "df.to_csv(r'raw\\continent-added-global-food.csv'\n",
    "          ,index=False)"
   ]
  },
  {
   "cell_type": "code",
   "execution_count": 69,
   "metadata": {},
   "outputs": [],
   "source": [
    "df_add_continent = pd.read_csv(r'raw\\continent-added-global-food.csv'\n",
    "                               ,delimiter=',')\n",
    "df = df_add_continent.copy()"
   ]
  },
  {
   "cell_type": "markdown",
   "metadata": {},
   "source": [
    "Checking Country-to-Continent Ratio"
   ]
  },
  {
   "cell_type": "code",
   "execution_count": 70,
   "metadata": {},
   "outputs": [],
   "source": [
    "# 0.5 indicates duplicate values"
   ]
  },
  {
   "cell_type": "code",
   "execution_count": 71,
   "metadata": {},
   "outputs": [],
   "source": [
    "supply_chain_waste = df['Supply_chain_waste'].sum()"
   ]
  },
  {
   "cell_type": "code",
   "execution_count": 72,
   "metadata": {},
   "outputs": [
    {
     "data": {
      "text/plain": [
       "0.42"
      ]
     },
     "execution_count": 72,
     "metadata": {},
     "output_type": "execute_result"
    }
   ],
   "source": [
    "# 0.42 World country-to-continent ratio\n",
    "world_country = df['Supply_chain_waste'].where(df['Country']=='World').sum()\n",
    "world_continent = df['Supply_chain_waste'].where(df['Continent']=='World').sum()\n",
    "(lambda a, b : a/b)(world_country, world_continent).round(2)"
   ]
  },
  {
   "cell_type": "code",
   "execution_count": 73,
   "metadata": {},
   "outputs": [
    {
     "data": {
      "text/plain": [
       "array(['High_Income', 'Developed', 'Low_Income', 'Middle_Income', 'World'],\n",
       "      dtype=object)"
      ]
     },
     "execution_count": 73,
     "metadata": {},
     "output_type": "execute_result"
    }
   ],
   "source": [
    "df['Country'].where(df['Continent']=='World').dropna().unique()# Change Country = 'World' to 'Others'"
   ]
  },
  {
   "cell_type": "code",
   "execution_count": 74,
   "metadata": {},
   "outputs": [
    {
     "data": {
      "text/plain": [
       "0.5"
      ]
     },
     "execution_count": 74,
     "metadata": {},
     "output_type": "execute_result"
    }
   ],
   "source": [
    "# 0.5 Africa country-to-continent ratio\n",
    "africa_country = df['Supply_chain_waste'].where(df['Country']=='Africa').sum()\n",
    "africa_continent = df['Supply_chain_waste'].where(df['Continent']=='Africa').sum()\n",
    "(lambda a,b : a/b)(africa_country, africa_continent).round(2)"
   ]
  },
  {
   "cell_type": "code",
   "execution_count": 75,
   "metadata": {},
   "outputs": [
    {
     "data": {
      "text/plain": [
       "array(['Americas', 'Central America', 'North America', 'Northern America',\n",
       "       'South America'], dtype=object)"
      ]
     },
     "execution_count": 75,
     "metadata": {},
     "output_type": "execute_result"
    }
   ],
   "source": [
    "df['Country'].where(df['Country'].str.contains('America')).dropna().unique()"
   ]
  },
  {
   "cell_type": "code",
   "execution_count": 76,
   "metadata": {},
   "outputs": [
    {
     "data": {
      "text/plain": [
       "0.5"
      ]
     },
     "execution_count": 76,
     "metadata": {},
     "output_type": "execute_result"
    }
   ],
   "source": [
    "# 0.5 Americas to America (NO 's') ratio\n",
    "americas_country = df['Supply_chain_waste'].where(df['Country']=='Americas').sum() # with 's'\n",
    "america_country = df['Supply_chain_waste'].where(df['Country']=='Central America').sum()\\\n",
    "    + df['Supply_chain_waste'].where(df['Country']=='North America').sum()\\\n",
    "    + df['Supply_chain_waste'].where(df['Country']=='Northern America').sum()\\\n",
    "    + df['Supply_chain_waste'].where(df['Country']=='South America').sum()\n",
    "(lambda a, b : (a/b))(americas_country,america_country).round(2)"
   ]
  },
  {
   "cell_type": "code",
   "execution_count": 77,
   "metadata": {},
   "outputs": [
    {
     "data": {
      "text/plain": [
       "0.56"
      ]
     },
     "execution_count": 77,
     "metadata": {},
     "output_type": "execute_result"
    }
   ],
   "source": [
    "# 0.56 Asia country-to-continent ratio\n",
    "asia_country = df['Supply_chain_waste'].where(df['Country']=='Asia').sum()\n",
    "asia_continent = df['Supply_chain_waste'].where(df['Continent']=='Asia').sum()\n",
    "(lambda a,b : a/b)(asia_country, asia_continent).round(2)"
   ]
  },
  {
   "cell_type": "code",
   "execution_count": 78,
   "metadata": {},
   "outputs": [
    {
     "data": {
      "text/plain": [
       "0.56"
      ]
     },
     "execution_count": 78,
     "metadata": {},
     "output_type": "execute_result"
    }
   ],
   "source": [
    "# 0.56 Europe country-to-continent ratio\n",
    "europe_country = df['Supply_chain_waste'].where(df['Country']=='Europe').sum()\n",
    "europe_continent = df['Supply_chain_waste'].where(df['Continent']=='Europe').sum()\n",
    "(lambda a,b : a/b)(asia_country, asia_continent).round(2)"
   ]
  },
  {
   "cell_type": "code",
   "execution_count": 79,
   "metadata": {},
   "outputs": [
    {
     "data": {
      "text/plain": [
       "0.01"
      ]
     },
     "execution_count": 79,
     "metadata": {},
     "output_type": "execute_result"
    }
   ],
   "source": [
    "# 0.01 Oceania country-to-continent ratio\n",
    "oceania_country = df['Supply_chain_waste'].where(df['Country']=='Oceania').sum()\n",
    "oceania_continent = df['Supply_chain_waste'].where(df['Continent']=='Oceania').sum()\n",
    "(lambda a,b : a/b)(oceania_country, oceania_continent).round(2)"
   ]
  },
  {
   "cell_type": "code",
   "execution_count": 80,
   "metadata": {},
   "outputs": [],
   "source": [
    "# Change Country = 'World' to 'Others'\n",
    "# Country to remove\n",
    "# Africa\n",
    "# Americas\n",
    "# Asia\n",
    "# Europe\n"
   ]
  },
  {
   "cell_type": "code",
   "execution_count": 81,
   "metadata": {},
   "outputs": [
    {
     "name": "stdout",
     "output_type": "stream",
     "text": [
      "Country               0\n",
      "Year                  0\n",
      "Population            0\n",
      "Production            0\n",
      "Yield                 0\n",
      "Land_used             0\n",
      "Imports               0\n",
      "Exports               0\n",
      "Domestic_supply       0\n",
      "Food                  0\n",
      "Animal_feed           0\n",
      "Supply_chain_waste    0\n",
      "Continent             0\n",
      "dtype: int64\n"
     ]
    }
   ],
   "source": [
    "df['Country'] = df['Country'].where(~(df['Continent']=='World'))\n",
    "df['Country'] = df['Country'].where(~(df['Country']=='Africa'))\n",
    "df['Country'] = df['Country'].where(~(df['Country']=='Americas'))\n",
    "df['Country'] = df['Country'].where(~(df['Country']=='Central America'))\n",
    "df['Country'] = df['Country'].where(~(df['Country']=='North America'))\n",
    "df['Country'] = df['Country'].where(~(df['Country']=='Northern America'))\n",
    "df['Country'] = df['Country'].where(~(df['Country']=='South America'))\n",
    "df['Country'] = df['Country'].where(~(df['Country']=='Asia'))\n",
    "df['Country'] = df['Country'].where(~(df['Country']=='Europe'))\n",
    "df = df.dropna()\n",
    "print(df.isna().sum())"
   ]
  },
  {
   "cell_type": "code",
   "execution_count": 82,
   "metadata": {},
   "outputs": [
    {
     "data": {
      "text/plain": [
       "(10992, 13)"
      ]
     },
     "execution_count": 82,
     "metadata": {},
     "output_type": "execute_result"
    }
   ],
   "source": [
    "df.shape"
   ]
  },
  {
   "cell_type": "code",
   "execution_count": 83,
   "metadata": {},
   "outputs": [],
   "source": [
    "df['Year'] = df['Year'].round(0).astype(int)\n",
    "df['Population'] = df['Population'].round(0).astype(int)\n",
    "df['Population'] = df['Yield'].round(2)\n",
    "df['Production'] = df['Production'].round(0).astype(int)\n",
    "df['Land_used'] = df['Land_used'].round(0).astype(int)\n",
    "df['Imports'] = df['Imports'].round(0).astype(int)\n",
    "df['Exports'] = df['Exports'].round(0).astype(int)\n",
    "df['Domestic_supply'] = df['Domestic_supply'].round(0).astype(int)\n",
    "df['Food'] = df['Food'].round(0).astype(int)\n",
    "df['Animal_feed'] = df['Animal_feed'].round(0).astype(int)\n",
    "df['Supply_chain_waste'] = df['Supply_chain_waste'].round(0).astype(int)"
   ]
  },
  {
   "cell_type": "markdown",
   "metadata": {},
   "source": [
    "# Outliers"
   ]
  },
  {
   "cell_type": "markdown",
   "metadata": {},
   "source": [
    "checkpoint:"
   ]
  },
  {
   "cell_type": "code",
   "execution_count": 84,
   "metadata": {},
   "outputs": [],
   "source": [
    "df.to_csv('outliers-global-food.csv',\n",
    "          index=False)"
   ]
  },
  {
   "cell_type": "code",
   "execution_count": 3,
   "metadata": {},
   "outputs": [],
   "source": [
    "df_outliers = pd.read_csv('outliers-global-food.csv'\n",
    "                       ,delimiter=',')\n",
    "df = df_outliers.copy()"
   ]
  },
  {
   "cell_type": "code",
   "execution_count": 4,
   "metadata": {},
   "outputs": [
    {
     "name": "stdout",
     "output_type": "stream",
     "text": [
      "<class 'pandas.core.frame.DataFrame'>\n",
      "RangeIndex: 10992 entries, 0 to 10991\n",
      "Data columns (total 13 columns):\n",
      " #   Column              Non-Null Count  Dtype  \n",
      "---  ------              --------------  -----  \n",
      " 0   Country             10992 non-null  object \n",
      " 1   Year                10992 non-null  int64  \n",
      " 2   Population          10992 non-null  float64\n",
      " 3   Production          10992 non-null  int64  \n",
      " 4   Yield               10992 non-null  float64\n",
      " 5   Land_used           10992 non-null  int64  \n",
      " 6   Imports             10992 non-null  int64  \n",
      " 7   Exports             10992 non-null  int64  \n",
      " 8   Domestic_supply     10992 non-null  int64  \n",
      " 9   Food                10992 non-null  int64  \n",
      " 10  Animal_feed         10992 non-null  int64  \n",
      " 11  Supply_chain_waste  10992 non-null  int64  \n",
      " 12  Continent           10992 non-null  object \n",
      "dtypes: float64(2), int64(9), object(2)\n",
      "memory usage: 1.1+ MB\n"
     ]
    }
   ],
   "source": [
    "df.info()"
   ]
  },
  {
   "cell_type": "code",
   "execution_count": 5,
   "metadata": {},
   "outputs": [],
   "source": [
    "z_score = stats.zscore(df['Supply_chain_waste'])\n",
    "outliers = (z_score>3)|(z_score<-3)\n",
    "df = df[~outliers]"
   ]
  },
  {
   "cell_type": "code",
   "execution_count": 6,
   "metadata": {},
   "outputs": [
    {
     "data": {
      "text/plain": [
       "Country               0\n",
       "Year                  0\n",
       "Population            0\n",
       "Production            0\n",
       "Yield                 0\n",
       "Land_used             0\n",
       "Imports               0\n",
       "Exports               0\n",
       "Domestic_supply       0\n",
       "Food                  0\n",
       "Animal_feed           0\n",
       "Supply_chain_waste    0\n",
       "Continent             0\n",
       "dtype: int64"
      ]
     },
     "execution_count": 6,
     "metadata": {},
     "output_type": "execute_result"
    }
   ],
   "source": [
    "df.isna().sum()"
   ]
  },
  {
   "cell_type": "markdown",
   "metadata": {},
   "source": [
    "# Clean"
   ]
  },
  {
   "cell_type": "code",
   "execution_count": 7,
   "metadata": {},
   "outputs": [],
   "source": [
    "df.to_csv('clean-global-food.csv',\n",
    "          index=False)"
   ]
  },
  {
   "cell_type": "code",
   "execution_count": 8,
   "metadata": {},
   "outputs": [
    {
     "data": {
      "image/png": "[encoded data removed]",
      "text/plain": [
       "<Figure size 640x480 with 1 Axes>"
      ]
     },
     "metadata": {},
     "output_type": "display_data"
    }
   ],
   "source": [
    "df['Supply_chain_waste'].plot(kind='box')\n",
    "plt.title('Supply Chain Waste')\n",
    "plt.show()"
   ]
  },
  {
   "cell_type": "code",
   "execution_count": 9,
   "metadata": {},
   "outputs": [
    {
     "data": {
      "text/plain": [
       "count    1.084700e+04\n",
       "mean     2.510511e+05\n",
       "std      4.139510e+05\n",
       "min      0.000000e+00\n",
       "25%      3.000000e+03\n",
       "50%      3.100000e+04\n",
       "75%      2.475000e+05\n",
       "max      3.365000e+06\n",
       "Name: Supply_chain_waste, dtype: float64"
      ]
     },
     "execution_count": 9,
     "metadata": {},
     "output_type": "execute_result"
    }
   ],
   "source": [
    "df['Supply_chain_waste'].describe()"
   ]
  }
 ],
 "metadata": {
  "kernelspec": {
   "display_name": "base",
   "language": "python",
   "name": "python3"
  },
  "language_info": {
   "codemirror_mode": {
    "name": "ipython",
    "version": 3
   },
   "file_extension": ".py",
   "mimetype": "text/x-python",
   "name": "python",
   "nbconvert_exporter": "python",
   "pygments_lexer": "ipython3",
   "version": "3.10.9"
  }
 },
 "nbformat": 4,
 "nbformat_minor": 2
}
