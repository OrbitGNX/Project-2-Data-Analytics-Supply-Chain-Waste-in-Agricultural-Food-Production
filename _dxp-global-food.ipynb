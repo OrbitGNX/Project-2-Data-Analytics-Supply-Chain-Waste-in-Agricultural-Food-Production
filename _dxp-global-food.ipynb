{
 "cells": [
  {
   "cell_type": "code",
   "execution_count": 1,
   "metadata": {},
   "outputs": [],
   "source": [
    "# Data Exploration\n",
    "import pandas as pd\n",
    "import matplotlib.pyplot as plt"
   ]
  },
  {
   "cell_type": "code",
   "execution_count": 2,
   "metadata": {},
   "outputs": [
    {
     "data": {
      "text/html": [
       "<div>\n",
       "<style scoped>\n",
       "    .dataframe tbody tr th:only-of-type {\n",
       "        vertical-align: middle;\n",
       "    }\n",
       "\n",
       "    .dataframe tbody tr th {\n",
       "        vertical-align: top;\n",
       "    }\n",
       "\n",
       "    .dataframe thead th {\n",
       "        text-align: right;\n",
       "    }\n",
       "</style>\n",
       "<table border=\"1\" class=\"dataframe\">\n",
       "  <thead>\n",
       "    <tr style=\"text-align: right;\">\n",
       "      <th></th>\n",
       "      <th>Product</th>\n",
       "      <th>Country</th>\n",
       "      <th>Year</th>\n",
       "      <th>Population</th>\n",
       "      <th>Production (t)</th>\n",
       "      <th>production__tonnes__per_capita</th>\n",
       "      <th>Production per capita (kg)</th>\n",
       "      <th>Yield (t/ha)</th>\n",
       "      <th>Yield (kg/animal)</th>\n",
       "      <th>Land Use (ha)</th>\n",
       "      <th>...</th>\n",
       "      <th>other_uses__tonnes__per_capita</th>\n",
       "      <th>Other uses per capita (kg)</th>\n",
       "      <th>Supply chain waste (t)</th>\n",
       "      <th>waste_in_supply_chain__tonnes__per_capita</th>\n",
       "      <th>Supply chain waste per capita (kg)</th>\n",
       "      <th>Food supply (kg per capita per year)</th>\n",
       "      <th>Food supply (g per capita per day)</th>\n",
       "      <th>Food supply (kcal per capita per day)</th>\n",
       "      <th>Food supply (Protein g per capita per day)</th>\n",
       "      <th>Food supply (Fat g per capita per day)</th>\n",
       "    </tr>\n",
       "  </thead>\n",
       "  <tbody>\n",
       "    <tr>\n",
       "      <th>0</th>\n",
       "      <td>NaN</td>\n",
       "      <td>Afghanistan</td>\n",
       "      <td>1961</td>\n",
       "      <td>8790140.0</td>\n",
       "      <td>700000.0</td>\n",
       "      <td>0.079635</td>\n",
       "      <td>79.634680</td>\n",
       "      <td>1.4000</td>\n",
       "      <td>NaN</td>\n",
       "      <td>500000.0</td>\n",
       "      <td>...</td>\n",
       "      <td>NaN</td>\n",
       "      <td>NaN</td>\n",
       "      <td>70000.0</td>\n",
       "      <td>0.007963</td>\n",
       "      <td>7.963468</td>\n",
       "      <td>45.787930</td>\n",
       "      <td>125.446382</td>\n",
       "      <td>387.08370</td>\n",
       "      <td>10.237346</td>\n",
       "      <td>5.439545</td>\n",
       "    </tr>\n",
       "    <tr>\n",
       "      <th>1</th>\n",
       "      <td>NaN</td>\n",
       "      <td>Afghanistan</td>\n",
       "      <td>1962</td>\n",
       "      <td>8969055.0</td>\n",
       "      <td>700000.0</td>\n",
       "      <td>0.078046</td>\n",
       "      <td>78.046130</td>\n",
       "      <td>1.4000</td>\n",
       "      <td>NaN</td>\n",
       "      <td>500000.0</td>\n",
       "      <td>...</td>\n",
       "      <td>NaN</td>\n",
       "      <td>NaN</td>\n",
       "      <td>70000.0</td>\n",
       "      <td>0.007805</td>\n",
       "      <td>7.804613</td>\n",
       "      <td>44.879000</td>\n",
       "      <td>122.956163</td>\n",
       "      <td>379.35650</td>\n",
       "      <td>10.029739</td>\n",
       "      <td>5.330847</td>\n",
       "    </tr>\n",
       "    <tr>\n",
       "      <th>2</th>\n",
       "      <td>NaN</td>\n",
       "      <td>Afghanistan</td>\n",
       "      <td>1963</td>\n",
       "      <td>9157463.0</td>\n",
       "      <td>713000.0</td>\n",
       "      <td>0.077860</td>\n",
       "      <td>77.859990</td>\n",
       "      <td>1.4260</td>\n",
       "      <td>NaN</td>\n",
       "      <td>500000.0</td>\n",
       "      <td>...</td>\n",
       "      <td>NaN</td>\n",
       "      <td>NaN</td>\n",
       "      <td>71000.0</td>\n",
       "      <td>0.007753</td>\n",
       "      <td>7.753239</td>\n",
       "      <td>44.785263</td>\n",
       "      <td>122.699349</td>\n",
       "      <td>378.59918</td>\n",
       "      <td>10.015743</td>\n",
       "      <td>5.324051</td>\n",
       "    </tr>\n",
       "    <tr>\n",
       "      <th>3</th>\n",
       "      <td>NaN</td>\n",
       "      <td>Afghanistan</td>\n",
       "      <td>1964</td>\n",
       "      <td>9355510.0</td>\n",
       "      <td>720000.0</td>\n",
       "      <td>0.076960</td>\n",
       "      <td>76.960000</td>\n",
       "      <td>1.4257</td>\n",
       "      <td>NaN</td>\n",
       "      <td>505000.0</td>\n",
       "      <td>...</td>\n",
       "      <td>NaN</td>\n",
       "      <td>NaN</td>\n",
       "      <td>72000.0</td>\n",
       "      <td>0.007696</td>\n",
       "      <td>7.696000</td>\n",
       "      <td>44.308723</td>\n",
       "      <td>121.393760</td>\n",
       "      <td>374.53220</td>\n",
       "      <td>9.908746</td>\n",
       "      <td>5.265616</td>\n",
       "    </tr>\n",
       "    <tr>\n",
       "      <th>4</th>\n",
       "      <td>NaN</td>\n",
       "      <td>Afghanistan</td>\n",
       "      <td>1965</td>\n",
       "      <td>9565154.0</td>\n",
       "      <td>720000.0</td>\n",
       "      <td>0.075273</td>\n",
       "      <td>75.273220</td>\n",
       "      <td>1.4400</td>\n",
       "      <td>NaN</td>\n",
       "      <td>500000.0</td>\n",
       "      <td>...</td>\n",
       "      <td>NaN</td>\n",
       "      <td>NaN</td>\n",
       "      <td>72000.0</td>\n",
       "      <td>0.007527</td>\n",
       "      <td>7.527323</td>\n",
       "      <td>43.336914</td>\n",
       "      <td>118.731270</td>\n",
       "      <td>366.32706</td>\n",
       "      <td>9.688275</td>\n",
       "      <td>5.145301</td>\n",
       "    </tr>\n",
       "    <tr>\n",
       "      <th>5</th>\n",
       "      <td>NaN</td>\n",
       "      <td>Afghanistan</td>\n",
       "      <td>1966</td>\n",
       "      <td>9783153.0</td>\n",
       "      <td>720000.0</td>\n",
       "      <td>0.073596</td>\n",
       "      <td>73.595904</td>\n",
       "      <td>1.4400</td>\n",
       "      <td>NaN</td>\n",
       "      <td>500000.0</td>\n",
       "      <td>...</td>\n",
       "      <td>NaN</td>\n",
       "      <td>NaN</td>\n",
       "      <td>72000.0</td>\n",
       "      <td>0.007360</td>\n",
       "      <td>7.359590</td>\n",
       "      <td>42.214058</td>\n",
       "      <td>115.654952</td>\n",
       "      <td>356.85892</td>\n",
       "      <td>9.435363</td>\n",
       "      <td>5.013813</td>\n",
       "    </tr>\n",
       "    <tr>\n",
       "      <th>6</th>\n",
       "      <td>NaN</td>\n",
       "      <td>Afghanistan</td>\n",
       "      <td>1967</td>\n",
       "      <td>10010037.0</td>\n",
       "      <td>768000.0</td>\n",
       "      <td>0.076723</td>\n",
       "      <td>76.722994</td>\n",
       "      <td>1.4144</td>\n",
       "      <td>NaN</td>\n",
       "      <td>543000.0</td>\n",
       "      <td>...</td>\n",
       "      <td>NaN</td>\n",
       "      <td>NaN</td>\n",
       "      <td>78000.0</td>\n",
       "      <td>0.007792</td>\n",
       "      <td>7.792179</td>\n",
       "      <td>45.350384</td>\n",
       "      <td>124.247626</td>\n",
       "      <td>383.33893</td>\n",
       "      <td>10.140268</td>\n",
       "      <td>5.381592</td>\n",
       "    </tr>\n",
       "    <tr>\n",
       "      <th>7</th>\n",
       "      <td>NaN</td>\n",
       "      <td>Afghanistan</td>\n",
       "      <td>1968</td>\n",
       "      <td>10247782.0</td>\n",
       "      <td>773000.0</td>\n",
       "      <td>0.075431</td>\n",
       "      <td>75.430960</td>\n",
       "      <td>1.7064</td>\n",
       "      <td>NaN</td>\n",
       "      <td>453000.0</td>\n",
       "      <td>...</td>\n",
       "      <td>NaN</td>\n",
       "      <td>NaN</td>\n",
       "      <td>77000.0</td>\n",
       "      <td>0.007514</td>\n",
       "      <td>7.513821</td>\n",
       "      <td>43.701180</td>\n",
       "      <td>119.729259</td>\n",
       "      <td>369.39188</td>\n",
       "      <td>9.773785</td>\n",
       "      <td>5.188174</td>\n",
       "    </tr>\n",
       "  </tbody>\n",
       "</table>\n",
       "<p>8 rows × 40 columns</p>\n",
       "</div>"
      ],
      "text/plain": [
       "   Product      Country  Year  Population  Production (t)  \\\n",
       "0      NaN  Afghanistan  1961   8790140.0        700000.0   \n",
       "1      NaN  Afghanistan  1962   8969055.0        700000.0   \n",
       "2      NaN  Afghanistan  1963   9157463.0        713000.0   \n",
       "3      NaN  Afghanistan  1964   9355510.0        720000.0   \n",
       "4      NaN  Afghanistan  1965   9565154.0        720000.0   \n",
       "5      NaN  Afghanistan  1966   9783153.0        720000.0   \n",
       "6      NaN  Afghanistan  1967  10010037.0        768000.0   \n",
       "7      NaN  Afghanistan  1968  10247782.0        773000.0   \n",
       "\n",
       "   production__tonnes__per_capita  Production per capita (kg)  Yield (t/ha)  \\\n",
       "0                        0.079635                   79.634680        1.4000   \n",
       "1                        0.078046                   78.046130        1.4000   \n",
       "2                        0.077860                   77.859990        1.4260   \n",
       "3                        0.076960                   76.960000        1.4257   \n",
       "4                        0.075273                   75.273220        1.4400   \n",
       "5                        0.073596                   73.595904        1.4400   \n",
       "6                        0.076723                   76.722994        1.4144   \n",
       "7                        0.075431                   75.430960        1.7064   \n",
       "\n",
       "   Yield (kg/animal)  Land Use (ha)  ...  other_uses__tonnes__per_capita  \\\n",
       "0                NaN       500000.0  ...                             NaN   \n",
       "1                NaN       500000.0  ...                             NaN   \n",
       "2                NaN       500000.0  ...                             NaN   \n",
       "3                NaN       505000.0  ...                             NaN   \n",
       "4                NaN       500000.0  ...                             NaN   \n",
       "5                NaN       500000.0  ...                             NaN   \n",
       "6                NaN       543000.0  ...                             NaN   \n",
       "7                NaN       453000.0  ...                             NaN   \n",
       "\n",
       "   Other uses per capita (kg)  Supply chain waste (t)  \\\n",
       "0                         NaN                 70000.0   \n",
       "1                         NaN                 70000.0   \n",
       "2                         NaN                 71000.0   \n",
       "3                         NaN                 72000.0   \n",
       "4                         NaN                 72000.0   \n",
       "5                         NaN                 72000.0   \n",
       "6                         NaN                 78000.0   \n",
       "7                         NaN                 77000.0   \n",
       "\n",
       "   waste_in_supply_chain__tonnes__per_capita  \\\n",
       "0                                   0.007963   \n",
       "1                                   0.007805   \n",
       "2                                   0.007753   \n",
       "3                                   0.007696   \n",
       "4                                   0.007527   \n",
       "5                                   0.007360   \n",
       "6                                   0.007792   \n",
       "7                                   0.007514   \n",
       "\n",
       "   Supply chain waste per capita (kg)  Food supply (kg per capita per year)  \\\n",
       "0                            7.963468                             45.787930   \n",
       "1                            7.804613                             44.879000   \n",
       "2                            7.753239                             44.785263   \n",
       "3                            7.696000                             44.308723   \n",
       "4                            7.527323                             43.336914   \n",
       "5                            7.359590                             42.214058   \n",
       "6                            7.792179                             45.350384   \n",
       "7                            7.513821                             43.701180   \n",
       "\n",
       "   Food supply (g per capita per day)  Food supply (kcal per capita per day)  \\\n",
       "0                          125.446382                              387.08370   \n",
       "1                          122.956163                              379.35650   \n",
       "2                          122.699349                              378.59918   \n",
       "3                          121.393760                              374.53220   \n",
       "4                          118.731270                              366.32706   \n",
       "5                          115.654952                              356.85892   \n",
       "6                          124.247626                              383.33893   \n",
       "7                          119.729259                              369.39188   \n",
       "\n",
       "   Food supply (Protein g per capita per day)  \\\n",
       "0                                   10.237346   \n",
       "1                                   10.029739   \n",
       "2                                   10.015743   \n",
       "3                                    9.908746   \n",
       "4                                    9.688275   \n",
       "5                                    9.435363   \n",
       "6                                   10.140268   \n",
       "7                                    9.773785   \n",
       "\n",
       "   Food supply (Fat g per capita per day)  \n",
       "0                                5.439545  \n",
       "1                                5.330847  \n",
       "2                                5.324051  \n",
       "3                                5.265616  \n",
       "4                                5.145301  \n",
       "5                                5.013813  \n",
       "6                                5.381592  \n",
       "7                                5.188174  \n",
       "\n",
       "[8 rows x 40 columns]"
      ]
     },
     "execution_count": 2,
     "metadata": {},
     "output_type": "execute_result"
    }
   ],
   "source": [
    "# Data Exploration\n",
    "import pandas as pd\n",
    "raw = pd.read_csv('global-food.csv'\n",
    "                  ,delimiter = ',')\n",
    "df = raw.copy()\n",
    "df.head(8)"
   ]
  },
  {
   "cell_type": "code",
   "execution_count": 3,
   "metadata": {},
   "outputs": [
    {
     "name": "stdout",
     "output_type": "stream",
     "text": [
      "<class 'pandas.core.frame.DataFrame'>\n",
      "RangeIndex: 13401 entries, 0 to 13400\n",
      "Data columns (total 40 columns):\n",
      " #   Column                                       Non-Null Count  Dtype  \n",
      "---  ------                                       --------------  -----  \n",
      " 0   Product                                      0 non-null      float64\n",
      " 1   Country                                      13401 non-null  object \n",
      " 2   Year                                         13401 non-null  int64  \n",
      " 3   Population                                   13367 non-null  float64\n",
      " 4   Production (t)                               11912 non-null  float64\n",
      " 5   production__tonnes__per_capita               10002 non-null  float64\n",
      " 6   Production per capita (kg)                   10002 non-null  float64\n",
      " 7   Yield (t/ha)                                 11783 non-null  float64\n",
      " 8   Yield (kg/animal)                            0 non-null      float64\n",
      " 9   Land Use (ha)                                11911 non-null  float64\n",
      " 10  area_harvested__ha__per_capita               10001 non-null  float64\n",
      " 11  Land Use per capita (m²)                     10001 non-null  float64\n",
      " 12  Producing or slaughtered animals             0 non-null      float64\n",
      " 13  Producing or slaughtered animals per capita  0 non-null      float64\n",
      " 14  Imports (t)                                  12515 non-null  float64\n",
      " 15  imports__tonnes__per_capita                  12359 non-null  float64\n",
      " 16  Imports per capita (kg)                      12359 non-null  float64\n",
      " 17  Exports (t)                                  11116 non-null  float64\n",
      " 18  exports__tonnes__per_capita                  10965 non-null  float64\n",
      " 19  Exports per capita (kg)                      10965 non-null  float64\n",
      " 20  Domestic supply (t)                          12516 non-null  float64\n",
      " 21  domestic_supply__tonnes__per_capita          12360 non-null  float64\n",
      " 22  Domestic supply per capita (kg)              12360 non-null  float64\n",
      " 23  Food (t)                                     12243 non-null  float64\n",
      " 24  food__tonnes__per_capita                     12087 non-null  float64\n",
      " 25  Food per capita (kg)                         12087 non-null  float64\n",
      " 26  Animal feed (t)                              11992 non-null  float64\n",
      " 27  feed__tonnes__per_capita                     11836 non-null  float64\n",
      " 28  Animal feed per capita (kg)                  11836 non-null  float64\n",
      " 29  Other uses (t)                               9933 non-null   float64\n",
      " 30  other_uses__tonnes__per_capita               9813 non-null   float64\n",
      " 31  Other uses per capita (kg)                   9813 non-null   float64\n",
      " 32  Supply chain waste (t)                       11246 non-null  float64\n",
      " 33  waste_in_supply_chain__tonnes__per_capita    11150 non-null  float64\n",
      " 34  Supply chain waste per capita (kg)           11150 non-null  float64\n",
      " 35  Food supply (kg per capita per year)         12087 non-null  float64\n",
      " 36  Food supply (g per capita per day)           12087 non-null  float64\n",
      " 37  Food supply (kcal per capita per day)        12183 non-null  float64\n",
      " 38  Food supply (Protein g per capita per day)   11987 non-null  float64\n",
      " 39  Food supply (Fat g per capita per day)       11787 non-null  float64\n",
      "dtypes: float64(38), int64(1), object(1)\n",
      "memory usage: 4.1+ MB\n"
     ]
    }
   ],
   "source": [
    "df.info()"
   ]
  },
  {
   "cell_type": "code",
   "execution_count": 4,
   "metadata": {},
   "outputs": [
    {
     "data": {
      "text/plain": [
       "(13401, 40)"
      ]
     },
     "execution_count": 4,
     "metadata": {},
     "output_type": "execute_result"
    }
   ],
   "source": [
    "df.shape"
   ]
  },
  {
   "cell_type": "markdown",
   "metadata": {},
   "source": [
    "Country"
   ]
  },
  {
   "cell_type": "code",
   "execution_count": 5,
   "metadata": {},
   "outputs": [
    {
     "data": {
      "text/plain": [
       "0"
      ]
     },
     "execution_count": 5,
     "metadata": {},
     "output_type": "execute_result"
    }
   ],
   "source": [
    "df['Country'].isna().sum()"
   ]
  },
  {
   "cell_type": "code",
   "execution_count": 6,
   "metadata": {},
   "outputs": [
    {
     "data": {
      "text/plain": [
       "array(['Afghanistan', 'Africa', 'Africa (FAO)', 'Albania', 'Algeria',\n",
       "       'Americas (FAO)', 'Angola', 'Antigua and Barbuda', 'Argentina',\n",
       "       'Armenia', 'Asia', 'Asia (FAO)', 'Australia', 'Austria',\n",
       "       'Azerbaijan', 'Bahamas', 'Bahrain', 'Bangladesh', 'Barbados',\n",
       "       'Belarus', 'Belgium', 'Belgium-Luxembourg (FAO)', 'Belize',\n",
       "       'Benin', 'Bermuda', 'Bhutan', 'Bolivia', 'Bosnia and Herzegovina',\n",
       "       'Botswana', 'Brazil', 'Brunei', 'Bulgaria', 'Burkina Faso',\n",
       "       'Burundi', 'Cambodia', 'Cameroon', 'Canada', 'Cape Verde',\n",
       "       'Caribbean (FAO)', 'Central African Republic',\n",
       "       'Central America (FAO)', 'Central Asia (FAO)', 'Chad', 'Chile',\n",
       "       'China', 'China (FAO)', 'Colombia', 'Comoros', 'Congo',\n",
       "       'Costa Rica', \"Cote d'Ivoire\", 'Croatia', 'Cuba', 'Cyprus',\n",
       "       'Czechia', 'Czechoslovakia', 'Democratic Republic of Congo',\n",
       "       'Denmark', 'Djibouti', 'Dominica', 'Dominican Republic',\n",
       "       'East Timor', 'Eastern Africa (FAO)', 'Eastern Asia (FAO)',\n",
       "       'Eastern Europe (FAO)', 'Ecuador', 'Egypt', 'El Salvador',\n",
       "       'Eritrea', 'Estonia', 'Eswatini', 'Ethiopia', 'Ethiopia (former)',\n",
       "       'Europe', 'Europe (FAO)', 'European Union (27)',\n",
       "       'European Union (27) (FAO)', 'Fiji', 'Finland', 'France',\n",
       "       'French Guiana', 'French Polynesia', 'Gabon', 'Gambia', 'Georgia',\n",
       "       'Germany', 'Ghana', 'Greece', 'Grenada', 'Guadeloupe', 'Guatemala',\n",
       "       'Guinea', 'Guinea-Bissau', 'Guyana', 'Haiti',\n",
       "       'High-income countries', 'Honduras', 'Hong Kong', 'Hungary',\n",
       "       'Iceland', 'India', 'Indonesia', 'Iran', 'Iraq', 'Ireland',\n",
       "       'Israel', 'Italy', 'Jamaica', 'Japan', 'Jordan', 'Kazakhstan',\n",
       "       'Kenya', 'Kiribati', 'Kuwait', 'Kyrgyzstan',\n",
       "       'Land Locked Developing Countries (FAO)', 'Laos', 'Latvia',\n",
       "       'Least Developed Countries (FAO)', 'Lebanon', 'Lesotho', 'Liberia',\n",
       "       'Libya', 'Lithuania', 'Low Income Food Deficit Countries (FAO)',\n",
       "       'Low-income countries', 'Lower-middle-income countries',\n",
       "       'Luxembourg', 'Macao', 'Madagascar', 'Malawi', 'Malaysia',\n",
       "       'Maldives', 'Mali', 'Malta', 'Mauritania', 'Mauritius',\n",
       "       'Melanesia', 'Mexico', 'Micronesia (FAO)', 'Micronesia (country)',\n",
       "       'Middle Africa (FAO)', 'Moldova', 'Mongolia', 'Montenegro',\n",
       "       'Morocco', 'Mozambique', 'Myanmar', 'Namibia', 'Nauru', 'Nepal',\n",
       "       'Net Food Importing Developing Countries (FAO)', 'Netherlands',\n",
       "       'Netherlands Antilles', 'New Caledonia', 'New Zealand',\n",
       "       'Nicaragua', 'Niger', 'Nigeria', 'North America', 'North Korea',\n",
       "       'North Macedonia', 'Northern Africa (FAO)',\n",
       "       'Northern America (FAO)', 'Northern Europe (FAO)', 'Norway',\n",
       "       'Oceania', 'Oceania (FAO)', 'Oman', 'Pakistan', 'Panama',\n",
       "       'Papua New Guinea', 'Paraguay', 'Peru', 'Philippines', 'Poland',\n",
       "       'Polynesia', 'Portugal', 'Puerto Rico', 'Qatar', 'Reunion',\n",
       "       'Romania', 'Russia', 'Rwanda', 'Saint Kitts and Nevis',\n",
       "       'Saint Lucia', 'Saint Vincent and the Grenadines', 'Samoa',\n",
       "       'Sao Tome and Principe', 'Saudi Arabia', 'Senegal', 'Serbia',\n",
       "       'Serbia and Montenegro', 'Seychelles', 'Sierra Leone', 'Slovakia',\n",
       "       'Slovenia', 'Small Island Developing States (FAO)',\n",
       "       'Solomon Islands', 'Somalia', 'South Africa', 'South America',\n",
       "       'South America (FAO)', 'South Korea', 'South Sudan',\n",
       "       'South-eastern Asia (FAO)', 'Southern Africa (FAO)',\n",
       "       'Southern Asia (FAO)', 'Southern Europe (FAO)', 'Spain',\n",
       "       'Sri Lanka', 'Sudan', 'Sudan (former)', 'Suriname', 'Sweden',\n",
       "       'Switzerland', 'Syria', 'Taiwan', 'Tajikistan', 'Tanzania',\n",
       "       'Thailand', 'Togo', 'Trinidad and Tobago', 'Tunisia', 'Turkey',\n",
       "       'Turkmenistan', 'USSR', 'Uganda', 'Ukraine',\n",
       "       'United Arab Emirates', 'United Kingdom', 'United States',\n",
       "       'Upper-middle-income countries', 'Uruguay', 'Uzbekistan',\n",
       "       'Vanuatu', 'Venezuela', 'Vietnam', 'Western Africa (FAO)',\n",
       "       'Western Asia (FAO)', 'Western Europe (FAO)', 'World', 'Yemen',\n",
       "       'Yugoslavia', 'Zambia', 'Zimbabwe'], dtype=object)"
      ]
     },
     "execution_count": 6,
     "metadata": {},
     "output_type": "execute_result"
    }
   ],
   "source": [
    "df['Country'].unique()"
   ]
  },
  {
   "cell_type": "code",
   "execution_count": 7,
   "metadata": {},
   "outputs": [
    {
     "data": {
      "text/plain": [
       "246"
      ]
     },
     "execution_count": 7,
     "metadata": {},
     "output_type": "execute_result"
    }
   ],
   "source": [
    "df['Country'].nunique()"
   ]
  },
  {
   "cell_type": "markdown",
   "metadata": {},
   "source": [
    "Year"
   ]
  },
  {
   "cell_type": "code",
   "execution_count": 8,
   "metadata": {},
   "outputs": [
    {
     "data": {
      "text/plain": [
       "0"
      ]
     },
     "execution_count": 8,
     "metadata": {},
     "output_type": "execute_result"
    }
   ],
   "source": [
    "df['Year'].isna().sum()"
   ]
  },
  {
   "cell_type": "code",
   "execution_count": 9,
   "metadata": {},
   "outputs": [
    {
     "data": {
      "text/plain": [
       "array([1961, 1962, 1963, 1964, 1965, 1966, 1967, 1968, 1969, 1970, 1971,\n",
       "       1972, 1973, 1974, 1975, 1976, 1977, 1978, 1979, 1980, 1981, 1982,\n",
       "       1983, 1984, 1985, 1986, 1987, 1988, 1989, 1990, 1991, 1992, 1993,\n",
       "       1994, 1995, 1996, 1997, 1998, 1999, 2000, 2001, 2002, 2003, 2004,\n",
       "       2005, 2006, 2007, 2008, 2009, 2010, 2011, 2012, 2013, 2014, 2015,\n",
       "       2016, 2017, 2018, 2019, 2020, 2021], dtype=int64)"
      ]
     },
     "execution_count": 9,
     "metadata": {},
     "output_type": "execute_result"
    }
   ],
   "source": [
    "df['Year'].unique()"
   ]
  },
  {
   "cell_type": "code",
   "execution_count": 10,
   "metadata": {},
   "outputs": [
    {
     "data": {
      "text/plain": [
       "61"
      ]
     },
     "execution_count": 10,
     "metadata": {},
     "output_type": "execute_result"
    }
   ],
   "source": [
    "df['Year'].nunique()"
   ]
  },
  {
   "cell_type": "markdown",
   "metadata": {},
   "source": [
    "Population"
   ]
  },
  {
   "cell_type": "code",
   "execution_count": 11,
   "metadata": {},
   "outputs": [
    {
     "data": {
      "text/plain": [
       "34"
      ]
     },
     "execution_count": 11,
     "metadata": {},
     "output_type": "execute_result"
    }
   ],
   "source": [
    "df['Population'].isna().sum()"
   ]
  },
  {
   "cell_type": "code",
   "execution_count": 12,
   "metadata": {},
   "outputs": [
    {
     "data": {
      "text/plain": [
       "'1.02e+10'"
      ]
     },
     "execution_count": 12,
     "metadata": {},
     "output_type": "execute_result"
    }
   ],
   "source": [
    "supply_chain_waste = df['Supply chain waste (t)'].sum()\n",
    "'{:.2e}'.format(supply_chain_waste)"
   ]
  },
  {
   "cell_type": "code",
   "execution_count": 13,
   "metadata": {},
   "outputs": [
    {
     "data": {
      "text/plain": [
       "0.0"
      ]
     },
     "execution_count": 13,
     "metadata": {},
     "output_type": "execute_result"
    }
   ],
   "source": [
    "# 0% nan\n",
    "population_nan = df['Supply chain waste (t)'].where(df['Population'].isna()).sum()\n",
    "population_nan"
   ]
  },
  {
   "cell_type": "markdown",
   "metadata": {},
   "source": [
    "Production"
   ]
  },
  {
   "cell_type": "code",
   "execution_count": 14,
   "metadata": {},
   "outputs": [
    {
     "data": {
      "text/plain": [
       "1489"
      ]
     },
     "execution_count": 14,
     "metadata": {},
     "output_type": "execute_result"
    }
   ],
   "source": [
    "df['Production (t)'].isna().sum()"
   ]
  },
  {
   "cell_type": "code",
   "execution_count": 15,
   "metadata": {},
   "outputs": [
    {
     "data": {
      "text/plain": [
       "0.02"
      ]
     },
     "execution_count": 15,
     "metadata": {},
     "output_type": "execute_result"
    }
   ],
   "source": [
    "# 0.02% nan\n",
    "production_nan = df['Supply chain waste (t)'].where(df['Production (t)'].isna()).sum()\n",
    "(lambda a,b : (a/b)*100)(production_nan, supply_chain_waste).round(2)"
   ]
  },
  {
   "cell_type": "markdown",
   "metadata": {},
   "source": [
    "Yield"
   ]
  },
  {
   "cell_type": "code",
   "execution_count": 16,
   "metadata": {},
   "outputs": [
    {
     "data": {
      "text/plain": [
       "1618"
      ]
     },
     "execution_count": 16,
     "metadata": {},
     "output_type": "execute_result"
    }
   ],
   "source": [
    "df['Yield (t/ha)'].isna().sum()"
   ]
  },
  {
   "cell_type": "code",
   "execution_count": 17,
   "metadata": {},
   "outputs": [
    {
     "data": {
      "text/plain": [
       "1.2"
      ]
     },
     "execution_count": 17,
     "metadata": {},
     "output_type": "execute_result"
    }
   ],
   "source": [
    "# 1.2% nan\n",
    "yield_nan = df['Supply chain waste (t)'].where(df['Yield (t/ha)'].isna()).sum()\n",
    "(lambda a,b : (a/b)*100)(yield_nan, supply_chain_waste).round(1)"
   ]
  },
  {
   "cell_type": "markdown",
   "metadata": {},
   "source": [
    "Land Use"
   ]
  },
  {
   "cell_type": "code",
   "execution_count": 18,
   "metadata": {},
   "outputs": [
    {
     "data": {
      "text/plain": [
       "1490"
      ]
     },
     "execution_count": 18,
     "metadata": {},
     "output_type": "execute_result"
    }
   ],
   "source": [
    "df['Land Use (ha)'].isna().sum()"
   ]
  },
  {
   "cell_type": "code",
   "execution_count": 19,
   "metadata": {},
   "outputs": [
    {
     "data": {
      "text/plain": [
       "0.02"
      ]
     },
     "execution_count": 19,
     "metadata": {},
     "output_type": "execute_result"
    }
   ],
   "source": [
    "# 0.02% nan\n",
    "land_used_nan = df['Supply chain waste (t)'].where(df['Land Use (ha)'].isna()).sum()\n",
    "(lambda a,b : (a/b)*100)(land_used_nan, supply_chain_waste).round(2)"
   ]
  },
  {
   "cell_type": "markdown",
   "metadata": {},
   "source": [
    "Imports"
   ]
  },
  {
   "cell_type": "code",
   "execution_count": 20,
   "metadata": {},
   "outputs": [
    {
     "data": {
      "text/plain": [
       "886"
      ]
     },
     "execution_count": 20,
     "metadata": {},
     "output_type": "execute_result"
    }
   ],
   "source": [
    "df['Imports (t)'].isna().sum()"
   ]
  },
  {
   "cell_type": "code",
   "execution_count": 21,
   "metadata": {},
   "outputs": [
    {
     "data": {
      "text/plain": [
       "0.0"
      ]
     },
     "execution_count": 21,
     "metadata": {},
     "output_type": "execute_result"
    }
   ],
   "source": [
    "# 0% nan\n",
    "imports_nan = df['Supply chain waste (t)'].where(df['Imports (t)'].isna()).sum()\n",
    "imports_nan"
   ]
  },
  {
   "cell_type": "markdown",
   "metadata": {},
   "source": [
    "Exports"
   ]
  },
  {
   "cell_type": "code",
   "execution_count": 22,
   "metadata": {},
   "outputs": [
    {
     "data": {
      "text/plain": [
       "2285"
      ]
     },
     "execution_count": 22,
     "metadata": {},
     "output_type": "execute_result"
    }
   ],
   "source": [
    "df['Exports (t)'].isna().sum()"
   ]
  },
  {
   "cell_type": "code",
   "execution_count": 23,
   "metadata": {},
   "outputs": [
    {
     "data": {
      "text/plain": [
       "0.04"
      ]
     },
     "execution_count": 23,
     "metadata": {},
     "output_type": "execute_result"
    }
   ],
   "source": [
    "# 0.04% nan\n",
    "exports_nan = df['Supply chain waste (t)'].where(df['Exports (t)'].isna()).sum()\n",
    "(lambda a,b : (a/b)*100)(exports_nan, supply_chain_waste).round(2)"
   ]
  },
  {
   "cell_type": "markdown",
   "metadata": {},
   "source": [
    "Domestic Supply"
   ]
  },
  {
   "cell_type": "code",
   "execution_count": 24,
   "metadata": {},
   "outputs": [
    {
     "data": {
      "text/plain": [
       "885"
      ]
     },
     "execution_count": 24,
     "metadata": {},
     "output_type": "execute_result"
    }
   ],
   "source": [
    "df['Domestic supply (t)'].isna().sum()"
   ]
  },
  {
   "cell_type": "code",
   "execution_count": 25,
   "metadata": {},
   "outputs": [
    {
     "data": {
      "text/plain": [
       "0.0"
      ]
     },
     "execution_count": 25,
     "metadata": {},
     "output_type": "execute_result"
    }
   ],
   "source": [
    "# 0% nan\n",
    "df['Supply chain waste (t)'].where(df['Domestic supply (t)'].isna()).sum()"
   ]
  },
  {
   "cell_type": "markdown",
   "metadata": {},
   "source": [
    "Food"
   ]
  },
  {
   "cell_type": "code",
   "execution_count": 26,
   "metadata": {},
   "outputs": [
    {
     "data": {
      "text/plain": [
       "1158"
      ]
     },
     "execution_count": 26,
     "metadata": {},
     "output_type": "execute_result"
    }
   ],
   "source": [
    "df['Food (t)'].isna().sum()"
   ]
  },
  {
   "cell_type": "code",
   "execution_count": 27,
   "metadata": {},
   "outputs": [
    {
     "data": {
      "text/plain": [
       "0.04"
      ]
     },
     "execution_count": 27,
     "metadata": {},
     "output_type": "execute_result"
    }
   ],
   "source": [
    "# 0.04% nan\n",
    "food_nan = df['Supply chain waste (t)'].where(df['Food (t)'].isna()).sum()\n",
    "(lambda a,b : (a/b)*100)(food_nan, supply_chain_waste).round(2)"
   ]
  },
  {
   "cell_type": "markdown",
   "metadata": {},
   "source": [
    "Animal Feed"
   ]
  },
  {
   "cell_type": "code",
   "execution_count": 28,
   "metadata": {},
   "outputs": [
    {
     "data": {
      "text/plain": [
       "1409"
      ]
     },
     "execution_count": 28,
     "metadata": {},
     "output_type": "execute_result"
    }
   ],
   "source": [
    "df['Animal feed (t)'].isna().sum()"
   ]
  },
  {
   "cell_type": "code",
   "execution_count": 29,
   "metadata": {},
   "outputs": [
    {
     "data": {
      "text/plain": [
       "0.02"
      ]
     },
     "execution_count": 29,
     "metadata": {},
     "output_type": "execute_result"
    }
   ],
   "source": [
    "# 0.02%\n",
    "animal_feed_nan = df['Supply chain waste (t)'].where(df['Animal feed (t)'].isna()).sum()\n",
    "(lambda a,b : (a/b)*100)(animal_feed_nan, supply_chain_waste).round(2)"
   ]
  },
  {
   "cell_type": "code",
   "execution_count": 30,
   "metadata": {},
   "outputs": [
    {
     "data": {
      "image/png": "[encoded data removed]",
      "text/plain": [
       "<Figure size 640x480 with 1 Axes>"
      ]
     },
     "metadata": {},
     "output_type": "display_data"
    }
   ],
   "source": [
    "df['Supply chain waste (t)'].plot(kind='box')\n",
    "plt.title('Supply Chain Waste')\n",
    "plt.show()"
   ]
  },
  {
   "cell_type": "code",
   "execution_count": 33,
   "metadata": {},
   "outputs": [
    {
     "data": {
      "text/plain": [
       "count    1.124600e+04\n",
       "mean     9.059988e+05\n",
       "std      3.267169e+06\n",
       "min      0.000000e+00\n",
       "25%      3.000000e+03\n",
       "50%      3.200000e+04\n",
       "75%      2.190000e+05\n",
       "max      6.545600e+07\n",
       "Name: Supply chain waste (t), dtype: float64"
      ]
     },
     "execution_count": 33,
     "metadata": {},
     "output_type": "execute_result"
    }
   ],
   "source": [
    "df['Supply chain waste (t)'].describe()"
   ]
  },
  {
   "cell_type": "code",
   "execution_count": null,
   "metadata": {},
   "outputs": [],
   "source": []
  }
 ],
 "metadata": {
  "kernelspec": {
   "display_name": "base",
   "language": "python",
   "name": "python3"
  },
  "language_info": {
   "codemirror_mode": {
    "name": "ipython",
    "version": 3
   },
   "file_extension": ".py",
   "mimetype": "text/x-python",
   "name": "python",
   "nbconvert_exporter": "python",
   "pygments_lexer": "ipython3",
   "version": "3.10.9"
  }
 },
 "nbformat": 4,
 "nbformat_minor": 2
}
